{
 "cells": [
  {
   "cell_type": "markdown",
   "metadata": {
    "id": "xABx3A-soZMM"
   },
   "source": [
    "# Computer Vision III: Detection, Segmentation and Tracking (CV3DST)\n",
    "\n",
    "- develop an extension of the ReID-based tracker that will make it more robust to occlusions by allowing it to recover from missed detections. \n",
    "- Adapt the track management scheme of our ReIDTracker allow it to recover from missed detections.\n"
   ]
  },
  {
   "cell_type": "markdown",
   "metadata": {
    "id": "LFYSSMiwpxSq"
   },
   "source": [
    "#### Install and import Python libraries"
   ]
  },
  {
   "cell_type": "code",
   "execution_count": 1,
   "metadata": {
    "id": "KRMsynpFU6gh"
   },
   "outputs": [],
   "source": [
    "%load_ext autoreload\n",
    "%autoreload 2\n",
    "%matplotlib inline\n"
   ]
  },
  {
   "cell_type": "code",
   "execution_count": 2,
   "metadata": {},
   "outputs": [],
   "source": [
    "import os\n",
    "import sys\n",
    "import matplotlib.pyplot as plt\n",
    "import numpy as np\n",
    "import time\n",
    "from tqdm.autonotebook import tqdm\n",
    "\n",
    "import torch\n",
    "from torch.utils.data import DataLoader\n",
    "from scipy.optimize import linear_sum_assignment as linear_assignment\n",
    "import os.path as osp\n",
    "\n",
    "import motmetrics as mm\n",
    "\n",
    "mm.lap.default_solver = \"lap\"\n",
    "\n"
   ]
  },
  {
   "cell_type": "code",
   "execution_count": null,
   "metadata": {},
   "outputs": [],
   "source": [
    "\n",
    "root_dir = \"..\"\n",
    "sys.path.append(os.path.join(root_dir, \"src\"))"
   ]
  },
  {
   "cell_type": "code",
   "execution_count": 3,
   "metadata": {
    "id": "RGOohkAgo-hW"
   },
   "outputs": [
    {
     "name": "stderr",
     "output_type": "stream",
     "text": [
      "/tmp/ipykernel_29561/123374960.py:4: TqdmWarning: IProgress not found. Please update jupyter and ipywidgets. See https://ipywidgets.readthedocs.io/en/stable/user_install.html\n",
      "  from tqdm.autonotebook import tqdm\n"
     ]
    }
   ],
   "source": [
    "\n",
    "from mot.models.object_detector import FRCNN_FPN\n",
    "from mot.data.data_track import MOT16Sequences\n",
    "from mot.tracker.advanced import LongTermReIDHungarianTracker\n",
    "from mot.utils import  cosine_distance\n",
    "from mot.eval import run_tracker\n"
   ]
  },
  {
   "cell_type": "markdown",
   "metadata": {
    "id": "-Qubi7uE6EPd"
   },
   "source": [
    "## Speed-Ups\n",
    "In order to speed up training and inference runtimes, we will be working with pre-computed detections and ReID embeddings. We ran the object detector and applied to all frames. We also computed reid embeddings for all boxes in every frame of the dataset so that they don't need to be computed every time you run your tracker. This yields over 10x speed improvements"
   ]
  },
  {
   "cell_type": "code",
   "execution_count": 4,
   "metadata": {
    "id": "tESJ1I1n7ot1"
   },
   "outputs": [],
   "source": [
    "train_db = torch.load(\n",
    "    osp.join(root_dir, \"data/preprocessed_data/preprocessed_data_train_2.pth\")\n",
    ")\n"
   ]
  },
  {
   "cell_type": "markdown",
   "metadata": {
    "id": "bqQQId537ot2"
   },
   "source": [
    "## ReIDHungarianTracker\n",
    "\n",
    "our baseline is ReIDTracker.\n",
    "\n",
    "This tracker works by performing frame-to-frame bipartite matching between newly detected boxes and past tracks based on ReID distance. Whenever a past track cannot be matched, its killed. And whenever, a newly detected box cannot be match, it starts a new trajectory.\n",
    "\n",
    "We have modified the ``compute_distance`` function in ``data_association`` to include a thresshold on ReID distance (if ReID distance >0.1, matching is not possible). This is important to prevent our tracker from reusing tracks for very dissimilar objects.\n",
    "\n",
    "Results:\n",
    "```\n",
    "          IDF1   IDP   IDR  Rcll  Prcn  GT  MT  PT ML   FP    FN IDs   FM  MOTA  MOTP\n",
    "MOT16-02 40.5% 57.5% 31.3% 52.2% 96.1%  62  12  38 12  390  8873 203  210 49.1% 0.090\n",
    "MOT16-05 54.4% 64.4% 47.1% 68.8% 94.0% 133  54  67 12  305  2156 330  149 59.7% 0.142\n",
    "MOT16-09 49.9% 61.7% 41.9% 66.3% 97.7%  26  13  12  1   82  1793  77   76 63.3% 0.082\n",
    "MOT16-11 61.1% 67.4% 55.9% 80.2% 96.6%  75  44  24  7  266  1871 176   91 75.5% 0.083\n",
    "OVERALL  49.6% 62.3% 41.2% 63.5% 96.1% 296 123 141 32 1043 14693 786  526 59.0% 0.097\n",
    "```\n"
   ]
  },
  {
   "cell_type": "code",
   "execution_count": 5,
   "metadata": {
    "id": "dZ1vBklj7ot3"
   },
   "outputs": [],
   "source": [
    "val_sequences = MOT16Sequences(\n",
    "    \"MOT16-reid\", root_dir=osp.join(root_dir, \"data/MOT16\"), vis_threshold=0.0\n",
    ")\n"
   ]
  },
  {
   "cell_type": "code",
   "execution_count": 6,
   "metadata": {
    "id": "x_z2Yl_ypm25"
   },
   "outputs": [
    {
     "ename": "NameError",
     "evalue": "name 'ReIDHungarianTracker' is not defined",
     "output_type": "error",
     "traceback": [
      "\u001b[0;31m---------------------------------------------------------------------------\u001b[0m",
      "\u001b[0;31mNameError\u001b[0m                                 Traceback (most recent call last)",
      "\u001b[1;32m/data/home/m.goldin/jupyter_nb/multi-object-tracking/notebooks/6.0-mg-LongTermReidTracker.ipynb Cell 10\u001b[0m in \u001b[0;36m<cell line: 1>\u001b[0;34m()\u001b[0m\n\u001b[0;32m----> <a href='vscode-notebook-cell://ssh-remote%2Bthresher/data/home/m.goldin/jupyter_nb/multi-object-tracking/notebooks/6.0-mg-LongTermReidTracker.ipynb#X12sdnNjb2RlLXJlbW90ZQ%3D%3D?line=0'>1</a>\u001b[0m tracker \u001b[39m=\u001b[39m ReIDHungarianTracker(obj_detect\u001b[39m=\u001b[39m\u001b[39mNone\u001b[39;00m)\n\u001b[1;32m      <a href='vscode-notebook-cell://ssh-remote%2Bthresher/data/home/m.goldin/jupyter_nb/multi-object-tracking/notebooks/6.0-mg-LongTermReidTracker.ipynb#X12sdnNjb2RlLXJlbW90ZQ%3D%3D?line=1'>2</a>\u001b[0m run_tracker(val_sequences, db\u001b[39m=\u001b[39mtrain_db, tracker\u001b[39m=\u001b[39mtracker, output_dir\u001b[39m=\u001b[39m\u001b[39mNone\u001b[39;00m)\n",
      "\u001b[0;31mNameError\u001b[0m: name 'ReIDHungarianTracker' is not defined"
     ]
    }
   ],
   "source": [
    "tracker = ReIDHungarianTracker(obj_detect=None)\n",
    "run_tracker(val_sequences, db=train_db, tracker=tracker, output_dir=None)\n"
   ]
  },
  {
   "cell_type": "markdown",
   "metadata": {
    "id": "1NgkrWTy7ot4"
   },
   "source": [
    "## Long-Term ReID Tracker\n"
   ]
  },
  {
   "cell_type": "markdown",
   "metadata": {
    "id": "9R8udP5I7ot4"
   },
   "source": [
    "The tracker above has an obvious limitation: whenever a track cannot be matched with the detections of a given frame the track will be killed. This means that if our detector misses an object in a single frame (due to e.g. occlusion), we will not be able to recover that track, and we will start a new one. \n",
    "\n",
    "To fix this issue, we would like to allow our tracker to maintain tracks that are not matched during data association. We will refer to these tracks as **inactive**. During data association, we will try to match the detected boxes for the current frame to both tracks that are active (i.e. tracks that we were able to match in the previous frame) as well as those that are inactive. Therefore, if a detector misses an object in a frame and the object reappears after a few frames, we will still be able to match it to its corresponding track, instead of creating a new one.\n",
    "\n",
    "In order to adapt our tracker to have this behavior, we will use the `inactive` attribute from the `track` class (see `tracker/tracker.py`. This attribute will be assigned an integer indicating for how many frames a track has remained unmatched. Whenever we are able to match the track `t`, we will set `t.inactive=0` and, naturally, when tracks are initialized, the class constructor sets `inactive=0`. \n",
    "\n",
    "Your job is to maintain the `inactive` attribute of all tracks being kept by tracker so that its value represents the number of frames for which the track has been unmatched. Additionally, we introduce a `patience` parameter. Whenever a track has been inactive for more than `inactive` frames. it will need to be killed.\n",
    "\n",
    "Results should approximately be around:\n",
    "\n",
    "```\n",
    "          IDF1   IDP   IDR  Rcll  Prcn  GT  MT  PT ML   FP    FN IDs   FM  MOTA  MOTP\n",
    "MOT16-02 45.9% 65.1% 35.4% 52.2% 96.1%  62  12  37 13  390  8873 130  210 49.4% 0.090\n",
    "MOT16-05 63.4% 75.0% 54.9% 68.8% 94.0% 133  54  67 12  305  2156 283  149 60.3% 0.142\n",
    "MOT16-09 52.5% 64.9% 44.1% 66.3% 97.7%  26  13  12  1   82  1793  49   76 63.9% 0.083\n",
    "MOT16-11 68.3% 75.3% 62.5% 80.2% 96.6%  75  44  24  7  266  1871 136   90 75.9% 0.083\n",
    "OVERALL  55.7% 70.0% 46.2% 63.5% 96.1% 296 123 140 33 1043 14693 598  525 59.4% 0.097\n",
    "```\n"
   ]
  },
  {
   "cell_type": "code",
   "execution_count": null,
   "metadata": {
    "id": "E-COcYAu7ot6"
   },
   "outputs": [
    {
     "name": "stdout",
     "output_type": "stream",
     "text": [
      "Tracking: MOT16-02\n",
      "Tracks found: 207\n",
      "Runtime for MOT16-02: 0.9 s.\n",
      "Tracking: MOT16-05\n",
      "Tracks found: 355\n",
      "Runtime for MOT16-05: 0.9 s.\n",
      "Tracking: MOT16-09\n",
      "Tracks found: 65\n",
      "Runtime for MOT16-09: 0.5 s.\n",
      "Tracking: MOT16-11\n",
      "Tracks found: 217\n",
      "Runtime for MOT16-11: 1.0 s.\n",
      "Runtime for all sequences: 3.4 s.\n",
      "          IDF1   IDP   IDR  Rcll  Prcn  GT  MT  PT ML   FP    FN IDs   FM  MOTA  MOTP IDt IDa IDm\n",
      "MOT16-02 45.9% 65.1% 35.4% 52.2% 96.1%  62  12  37 13  390  8873 130  210 49.4% 0.090  18 113   5\n",
      "MOT16-05 63.4% 75.0% 54.9% 68.8% 94.0% 133  54  67 12  305  2156 283  149 60.3% 0.142  73 216  13\n",
      "MOT16-09 52.5% 64.9% 44.1% 66.3% 97.7%  26  13  12  1   82  1793  49   76 63.9% 0.083  12  40   4\n",
      "MOT16-11 68.3% 75.3% 62.5% 80.2% 96.6%  75  44  24  7  266  1871 136   90 75.9% 0.083  23 115   3\n",
      "OVERALL  55.7% 70.0% 46.2% 63.5% 96.1% 296 123 140 33 1043 14693 598  525 59.4% 0.097 126 484  25\n"
     ]
    },
    {
     "data": {
      "text/html": [
       "<div>\n",
       "<style scoped>\n",
       "    .dataframe tbody tr th:only-of-type {\n",
       "        vertical-align: middle;\n",
       "    }\n",
       "\n",
       "    .dataframe tbody tr th {\n",
       "        vertical-align: top;\n",
       "    }\n",
       "\n",
       "    .dataframe thead th {\n",
       "        text-align: right;\n",
       "    }\n",
       "</style>\n",
       "<table border=\"1\" class=\"dataframe\">\n",
       "  <thead>\n",
       "    <tr style=\"text-align: right;\">\n",
       "      <th></th>\n",
       "      <th>idf1</th>\n",
       "      <th>idp</th>\n",
       "      <th>idr</th>\n",
       "      <th>recall</th>\n",
       "      <th>precision</th>\n",
       "      <th>num_unique_objects</th>\n",
       "      <th>mostly_tracked</th>\n",
       "      <th>partially_tracked</th>\n",
       "      <th>mostly_lost</th>\n",
       "      <th>num_false_positives</th>\n",
       "      <th>num_misses</th>\n",
       "      <th>num_switches</th>\n",
       "      <th>num_fragmentations</th>\n",
       "      <th>mota</th>\n",
       "      <th>motp</th>\n",
       "      <th>num_transfer</th>\n",
       "      <th>num_ascend</th>\n",
       "      <th>num_migrate</th>\n",
       "    </tr>\n",
       "  </thead>\n",
       "  <tbody>\n",
       "    <tr>\n",
       "      <th>MOT16-02</th>\n",
       "      <td>0.458524</td>\n",
       "      <td>0.651119</td>\n",
       "      <td>0.353856</td>\n",
       "      <td>0.522469</td>\n",
       "      <td>0.961378</td>\n",
       "      <td>62</td>\n",
       "      <td>12</td>\n",
       "      <td>37</td>\n",
       "      <td>13</td>\n",
       "      <td>390</td>\n",
       "      <td>8873</td>\n",
       "      <td>130</td>\n",
       "      <td>210</td>\n",
       "      <td>0.494484</td>\n",
       "      <td>0.090339</td>\n",
       "      <td>18</td>\n",
       "      <td>113</td>\n",
       "      <td>5</td>\n",
       "    </tr>\n",
       "    <tr>\n",
       "      <th>MOT16-05</th>\n",
       "      <td>0.633898</td>\n",
       "      <td>0.749704</td>\n",
       "      <td>0.549082</td>\n",
       "      <td>0.688304</td>\n",
       "      <td>0.939795</td>\n",
       "      <td>133</td>\n",
       "      <td>54</td>\n",
       "      <td>67</td>\n",
       "      <td>12</td>\n",
       "      <td>305</td>\n",
       "      <td>2156</td>\n",
       "      <td>283</td>\n",
       "      <td>149</td>\n",
       "      <td>0.603296</td>\n",
       "      <td>0.141942</td>\n",
       "      <td>73</td>\n",
       "      <td>216</td>\n",
       "      <td>13</td>\n",
       "    </tr>\n",
       "    <tr>\n",
       "      <th>MOT16-09</th>\n",
       "      <td>0.525115</td>\n",
       "      <td>0.649419</td>\n",
       "      <td>0.440751</td>\n",
       "      <td>0.663286</td>\n",
       "      <td>0.977310</td>\n",
       "      <td>26</td>\n",
       "      <td>13</td>\n",
       "      <td>12</td>\n",
       "      <td>1</td>\n",
       "      <td>82</td>\n",
       "      <td>1793</td>\n",
       "      <td>49</td>\n",
       "      <td>76</td>\n",
       "      <td>0.638685</td>\n",
       "      <td>0.082643</td>\n",
       "      <td>12</td>\n",
       "      <td>40</td>\n",
       "      <td>4</td>\n",
       "    </tr>\n",
       "    <tr>\n",
       "      <th>MOT16-11</th>\n",
       "      <td>0.683269</td>\n",
       "      <td>0.753288</td>\n",
       "      <td>0.625159</td>\n",
       "      <td>0.801717</td>\n",
       "      <td>0.966032</td>\n",
       "      <td>75</td>\n",
       "      <td>44</td>\n",
       "      <td>24</td>\n",
       "      <td>7</td>\n",
       "      <td>266</td>\n",
       "      <td>1871</td>\n",
       "      <td>136</td>\n",
       "      <td>90</td>\n",
       "      <td>0.759114</td>\n",
       "      <td>0.082754</td>\n",
       "      <td>23</td>\n",
       "      <td>115</td>\n",
       "      <td>3</td>\n",
       "    </tr>\n",
       "    <tr>\n",
       "      <th>OVERALL</th>\n",
       "      <td>0.556888</td>\n",
       "      <td>0.699726</td>\n",
       "      <td>0.462480</td>\n",
       "      <td>0.635038</td>\n",
       "      <td>0.960803</td>\n",
       "      <td>296</td>\n",
       "      <td>123</td>\n",
       "      <td>140</td>\n",
       "      <td>33</td>\n",
       "      <td>1043</td>\n",
       "      <td>14693</td>\n",
       "      <td>598</td>\n",
       "      <td>525</td>\n",
       "      <td>0.594277</td>\n",
       "      <td>0.096641</td>\n",
       "      <td>126</td>\n",
       "      <td>484</td>\n",
       "      <td>25</td>\n",
       "    </tr>\n",
       "  </tbody>\n",
       "</table>\n",
       "</div>"
      ],
      "text/plain": [
       "              idf1       idp       idr    recall  precision  \\\n",
       "MOT16-02  0.458524  0.651119  0.353856  0.522469   0.961378   \n",
       "MOT16-05  0.633898  0.749704  0.549082  0.688304   0.939795   \n",
       "MOT16-09  0.525115  0.649419  0.440751  0.663286   0.977310   \n",
       "MOT16-11  0.683269  0.753288  0.625159  0.801717   0.966032   \n",
       "OVERALL   0.556888  0.699726  0.462480  0.635038   0.960803   \n",
       "\n",
       "          num_unique_objects  mostly_tracked  partially_tracked  mostly_lost  \\\n",
       "MOT16-02                  62              12                 37           13   \n",
       "MOT16-05                 133              54                 67           12   \n",
       "MOT16-09                  26              13                 12            1   \n",
       "MOT16-11                  75              44                 24            7   \n",
       "OVERALL                  296             123                140           33   \n",
       "\n",
       "          num_false_positives  num_misses  num_switches  num_fragmentations  \\\n",
       "MOT16-02                  390        8873           130                 210   \n",
       "MOT16-05                  305        2156           283                 149   \n",
       "MOT16-09                   82        1793            49                  76   \n",
       "MOT16-11                  266        1871           136                  90   \n",
       "OVERALL                  1043       14693           598                 525   \n",
       "\n",
       "              mota      motp  num_transfer  num_ascend  num_migrate  \n",
       "MOT16-02  0.494484  0.090339            18         113            5  \n",
       "MOT16-05  0.603296  0.141942            73         216           13  \n",
       "MOT16-09  0.638685  0.082643            12          40            4  \n",
       "MOT16-11  0.759114  0.082754            23         115            3  \n",
       "OVERALL   0.594277  0.096641           126         484           25  "
      ]
     },
     "execution_count": 7,
     "metadata": {},
     "output_type": "execute_result"
    }
   ],
   "source": [
    "tracker = LongTermReIDHungarianTracker(patience=20, obj_detect=None)\n",
    "run_tracker(val_sequences, db=train_db, tracker=tracker, output_dir=None)\n"
   ]
  },
  {
   "cell_type": "code",
   "execution_count": null,
   "metadata": {},
   "outputs": [],
   "source": []
  }
 ],
 "metadata": {
  "accelerator": "GPU",
  "colab": {
   "collapsed_sections": [],
   "machine_shape": "hm",
   "name": "Copy of CV3DST_Exercise2.ipynb",
   "provenance": [
    {
     "file_id": "1eIT4nfc3DGdosPZU2A5SsOSFZrY8JxhL",
     "timestamp": 1658683163750
    }
   ]
  },
  "kernelspec": {
   "display_name": "Python 3.10.4 ('tracking')",
   "language": "python",
   "name": "python3"
  },
  "language_info": {
   "codemirror_mode": {
    "name": "ipython",
    "version": 3
   },
   "file_extension": ".py",
   "mimetype": "text/x-python",
   "name": "python",
   "nbconvert_exporter": "python",
   "pygments_lexer": "ipython3",
   "version": "3.10.4"
  },
  "vscode": {
   "interpreter": {
    "hash": "d0cafbbefa557af0eb434e43229a0bc3a94a7b3610e45211e67837890fcbccc6"
   }
  }
 },
 "nbformat": 4,
 "nbformat_minor": 4
}
