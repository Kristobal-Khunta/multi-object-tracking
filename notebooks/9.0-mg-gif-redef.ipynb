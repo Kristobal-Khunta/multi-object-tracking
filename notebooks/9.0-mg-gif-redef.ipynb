{
 "cells": [
  {
   "cell_type": "markdown",
   "metadata": {
    "id": "LFYSSMiwpxSq"
   },
   "source": [
    "#### Install and import Python libraries"
   ]
  },
  {
   "cell_type": "code",
   "execution_count": 1,
   "metadata": {},
   "outputs": [],
   "source": [
    "%load_ext autoreload\n",
    "%autoreload 2\n"
   ]
  },
  {
   "cell_type": "code",
   "execution_count": 2,
   "metadata": {
    "colab": {
     "base_uri": "https://localhost:8080/"
    },
    "executionInfo": {
     "elapsed": 15351,
     "status": "ok",
     "timestamp": 1658910410246,
     "user": {
      "displayName": "Максим Голдин",
      "userId": "08631407013133915158"
     },
     "user_tz": -180
    },
    "id": "KRMsynpFU6gh",
    "outputId": "cb3ecbe0-7e78-49d3-9aae-03fa8028006a"
   },
   "outputs": [],
   "source": [
    "import os\n",
    "import sys\n",
    "\n",
    "root_dir = \"..\"\n",
    "sys.path.append(os.path.join(root_dir, \"src\"))\n"
   ]
  },
  {
   "cell_type": "code",
   "execution_count": 17,
   "metadata": {
    "colab": {
     "base_uri": "https://localhost:8080/"
    },
    "executionInfo": {
     "elapsed": 5345,
     "status": "ok",
     "timestamp": 1658910415580,
     "user": {
      "displayName": "Максим Голдин",
      "userId": "08631407013133915158"
     },
     "user_tz": -180
    },
    "id": "RGOohkAgo-hW",
    "outputId": "0a2d2db4-fe9d-4ec4-c430-822c006681ff"
   },
   "outputs": [],
   "source": [
    "import matplotlib.pyplot as plt\n",
    "import numpy as np\n",
    "import time\n",
    "import gif\n",
    "from tqdm.autonotebook import tqdm\n",
    "\n",
    "import torch\n",
    "from torch.utils.data import DataLoader\n",
    "\n",
    "from tracker.data_track import MOT16Sequences\n",
    "from tracker.data_obj_detect import MOT16ObjDetect\n",
    "from tracker.object_detector import FRCNN_FPN\n",
    "from tracker.tracker import Tracker\n",
    "from tracker.utils import ( evaluate_mot_accums, get_mot_accum,\n",
    "                           evaluate_obj_detect, obj_detect_transforms)\n",
    "from gnn.models import BipartiteNeuralMessagePassingLayer, SimilarityNet\n",
    "# from gnn.tracker import MPNTracker\n",
    "from tracker.visualize import plot_sequence, collect_frames_for_gif\n",
    "from scipy.optimize import linear_sum_assignment as linear_assignment\n",
    "from market.models import build_model\n",
    "from tracker.tracker import Tracker, ReIDTracker\n",
    "import os.path as osp\n",
    "\n",
    "import motmetrics as mm\n",
    "mm.lap.default_solver = 'lap'\n",
    "%matplotlib inline\n"
   ]
  },
  {
   "cell_type": "markdown",
   "metadata": {
    "id": "-Qubi7uE6EPd"
   },
   "source": [
    "\n",
    "## Configuration"
   ]
  },
  {
   "cell_type": "code",
   "execution_count": 4,
   "metadata": {
    "executionInfo": {
     "elapsed": 328,
     "status": "ok",
     "timestamp": 1658910605340,
     "user": {
      "displayName": "Максим Голдин",
      "userId": "08631407013133915158"
     },
     "user_tz": -180
    },
    "id": "z2g7oHASTa8v"
   },
   "outputs": [],
   "source": [
    "device = torch.device(\"cuda\") if torch.cuda.is_available() else torch.device(\"cpu\")\n"
   ]
  },
  {
   "cell_type": "markdown",
   "metadata": {
    "id": "WGszq40utUfA"
   },
   "source": [
    "# Multi-object tracking\n",
    "\n",
    "## Configuration"
   ]
  },
  {
   "cell_type": "code",
   "execution_count": 5,
   "metadata": {
    "executionInfo": {
     "elapsed": 14,
     "status": "ok",
     "timestamp": 1658910682779,
     "user": {
      "displayName": "Максим Голдин",
      "userId": "08631407013133915158"
     },
     "user_tz": -180
    },
    "id": "eQTAqnFptwul"
   },
   "outputs": [],
   "source": [
    "seed = 12345\n",
    "torch.manual_seed(seed)\n",
    "torch.cuda.manual_seed(seed)\n",
    "np.random.seed(seed)\n",
    "torch.backends.cudnn.deterministic = True\n"
   ]
  },
  {
   "cell_type": "markdown",
   "metadata": {},
   "source": [
    "## load pretrained"
   ]
  },
  {
   "cell_type": "code",
   "execution_count": 6,
   "metadata": {},
   "outputs": [],
   "source": [
    "# Define our model, and init\n",
    "refine_gnn_net = SimilarityNet(\n",
    "    reid_network=None,  # Not needed since we work with precomputed features\n",
    "    node_dim=32,\n",
    "    edge_dim=64,\n",
    "    reid_dim=512,\n",
    "    edges_in_dim=6,\n",
    "    num_steps=10,\n",
    ").cuda()"
   ]
  },
  {
   "cell_type": "code",
   "execution_count": 7,
   "metadata": {},
   "outputs": [],
   "source": [
    "from gnn.tracker import MPNTracker\n"
   ]
  },
  {
   "cell_type": "code",
   "execution_count": 8,
   "metadata": {},
   "outputs": [],
   "source": [
    "best_ckpt = torch.load(osp.join(root_dir, \"output\", \"best_ckpt.pth\"))\n",
    "refine_gnn_net.load_state_dict(best_ckpt)\n",
    "MAX_PATIENCE = 20\n",
    "\n",
    "tracker = MPNTracker(\n",
    "    assign_net=refine_gnn_net.eval(), obj_detect=None, patience=MAX_PATIENCE\n",
    ")\n"
   ]
  },
  {
   "cell_type": "code",
   "execution_count": 9,
   "metadata": {},
   "outputs": [],
   "source": [
    "#from tracker.utils import get_mot_accum,evaluate_mot_accums,plot_sequence"
   ]
  },
  {
   "cell_type": "code",
   "execution_count": 10,
   "metadata": {},
   "outputs": [],
   "source": [
    "val_sequences = MOT16Sequences(\n",
    "            \"MOT16-val2\", osp.join(root_dir, \"data/MOT16\"), vis_threshold=0.0\n",
    "        )\n",
    "train_db = torch.load(\n",
    "    osp.join(root_dir, \"data/preprocessed_data/preprocessed_data_train_2.pth\")\n",
    ")\n"
   ]
  },
  {
   "cell_type": "code",
   "execution_count": 11,
   "metadata": {},
   "outputs": [
    {
     "name": "stdout",
     "output_type": "stream",
     "text": [
      "Tracking: MOT16-02\n",
      "Tracks found: 100\n",
      "Runtime for MOT16-02: 5.0 s.\n",
      "Tracking: MOT16-11\n",
      "Tracks found: 83\n",
      "Runtime for MOT16-11: 5.1 s.\n",
      "Runtime for all sequences: 10.0 s.\n",
      "          IDF1   IDP   IDR  Rcll  Prcn  GT MT PT ML  FP    FN IDs   FM  MOTA  MOTP IDt IDa IDm\n",
      "MOT16-02 48.4% 68.7% 37.3% 52.2% 96.1%  62 11 38 13 390  8873  98  222 49.6% 0.096  59  47  12\n",
      "MOT16-11 71.2% 78.5% 65.1% 80.2% 96.6%  75 44 24  7 266  1871  37   90 77.0% 0.083  31  15  14\n",
      "OVERALL  56.9% 73.0% 46.7% 61.7% 96.3% 137 55 62 20 656 10744 135  312 58.8% 0.090  90  62  26\n"
     ]
    }
   ],
   "source": [
    "output_dir=None\n",
    "#####\n",
    "db = train_db\n",
    "time_total = 0\n",
    "mot_accums = []\n",
    "results_seq = {}\n",
    "for seq in val_sequences:\n",
    "    # break\n",
    "    tracker.reset()\n",
    "    now = time.time()\n",
    "\n",
    "    print(f\"Tracking: {seq}\")\n",
    "\n",
    "    # data_loader = DataLoader(seq, batch_size=1, shuffle=False)\n",
    "    with torch.no_grad():\n",
    "        # for i, frame in enumerate(tqdm(data_loader)):\n",
    "        for frame in db[str(seq)]:\n",
    "            tracker.step(frame)\n",
    "\n",
    "    results = tracker.get_results()\n",
    "    results_seq[str(seq)] = results\n",
    "\n",
    "    if seq.no_gt:\n",
    "        print(\"No GT evaluation data available.\")\n",
    "    else:\n",
    "        mot_accums.append(get_mot_accum(results, seq))\n",
    "\n",
    "    time_total += time.time() - now\n",
    "\n",
    "    print(f\"Tracks found: {len(results)}\")\n",
    "    print(f\"Runtime for {seq}: {time.time() - now:.1f} s.\")\n",
    "\n",
    "    if output_dir is not None:\n",
    "        os.makedirs(output_dir, exist_ok=True)\n",
    "        seq.write_results(results, os.path.join(output_dir))\n",
    "\n",
    "print(f\"Runtime for all sequences: {time_total:.1f} s.\")\n",
    "if mot_accums:\n",
    "    evaluate_mot_accums(\n",
    "        mot_accums,\n",
    "        [str(s) for s in val_sequences if not s.no_gt],\n",
    "        generate_overall=True,\n",
    "    )\n"
   ]
  },
  {
   "cell_type": "code",
   "execution_count": null,
   "metadata": {},
   "outputs": [],
   "source": [
    "plot_sequence(\n",
    "    results_seq[\"MOT16-02\"],\n",
    "    [s for s in val_sequences if str(s) == \"MOT16-02\"][0],\n",
    "    first_n_frames=2,\n",
    ")\n"
   ]
  },
  {
   "cell_type": "markdown",
   "metadata": {},
   "source": [
    "# create gif"
   ]
  },
  {
   "cell_type": "code",
   "execution_count": 14,
   "metadata": {},
   "outputs": [],
   "source": [
    "seq_name =  \"MOT16-02\"\n",
    "sequence = [s for s in val_sequences if str(s) == seq_name ][0]\n",
    "tracker_seq_res = results_seq[seq_name]"
   ]
  },
  {
   "cell_type": "code",
   "execution_count": 15,
   "metadata": {},
   "outputs": [
    {
     "name": "stderr",
     "output_type": "stream",
     "text": [
      "100%|█████████████████████████████████████████| 600/600 [05:46<00:00,  1.73it/s]\n"
     ]
    }
   ],
   "source": [
    "frames = collect_frames_for_gif(sequence, tracker_seq_res)"
   ]
  },
  {
   "cell_type": "code",
   "execution_count": 18,
   "metadata": {},
   "outputs": [],
   "source": [
    "gif.save(frames, 'MOT16-02_result_0001sec.gif', duration=0.001)"
   ]
  },
  {
   "cell_type": "code",
   "execution_count": null,
   "metadata": {},
   "outputs": [],
   "source": []
  }
 ],
 "metadata": {
  "accelerator": "GPU",
  "colab": {
   "collapsed_sections": [],
   "machine_shape": "hm",
   "name": "Exercise_ReID.ipynb",
   "provenance": [],
   "toc_visible": true
  },
  "kernelspec": {
   "display_name": "Python [conda env:tracking]",
   "language": "python",
   "name": "conda-env-tracking-py"
  },
  "language_info": {
   "codemirror_mode": {
    "name": "ipython",
    "version": 3
   },
   "file_extension": ".py",
   "mimetype": "text/x-python",
   "name": "python",
   "nbconvert_exporter": "python",
   "pygments_lexer": "ipython3",
   "version": "3.10.4"
  }
 },
 "nbformat": 4,
 "nbformat_minor": 4
}
