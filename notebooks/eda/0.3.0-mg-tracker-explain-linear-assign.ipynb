{
 "cells": [
  {
   "cell_type": "markdown",
   "metadata": {},
   "source": [
    "# Что посмотреть?\n",
    "- distance = self.compute_distance_matrix(track_features, pred_features,track_boxes, boxes, metric_fn=cosine_distance)\n",
    "    - cos = (-1,1) и как внутри это все визуализируется и согласуется с обычнми фичами = 255\n",
    "- row_idx, col_idx = linear_assignment(distance)\n"
   ]
  },
  {
   "cell_type": "markdown",
   "metadata": {
    "id": "LFYSSMiwpxSq"
   },
   "source": [
    "#### Install and import Python libraries"
   ]
  },
  {
   "cell_type": "code",
   "execution_count": 2,
   "metadata": {},
   "outputs": [],
   "source": [
    "%load_ext autoreload\n",
    "%autoreload 2\n"
   ]
  },
  {
   "cell_type": "code",
   "execution_count": 3,
   "metadata": {
    "colab": {
     "base_uri": "https://localhost:8080/"
    },
    "executionInfo": {
     "elapsed": 15351,
     "status": "ok",
     "timestamp": 1658910410246,
     "user": {
      "displayName": "Максим Голдин",
      "userId": "08631407013133915158"
     },
     "user_tz": -180
    },
    "id": "KRMsynpFU6gh",
    "outputId": "cb3ecbe0-7e78-49d3-9aae-03fa8028006a"
   },
   "outputs": [],
   "source": [
    "import os\n",
    "import sys\n",
    "\n",
    "root_dir = \"..\"\n",
    "sys.path.append(os.path.join(root_dir, \"src\"))\n"
   ]
  },
  {
   "cell_type": "code",
   "execution_count": 4,
   "metadata": {
    "colab": {
     "base_uri": "https://localhost:8080/"
    },
    "executionInfo": {
     "elapsed": 5345,
     "status": "ok",
     "timestamp": 1658910415580,
     "user": {
      "displayName": "Максим Голдин",
      "userId": "08631407013133915158"
     },
     "user_tz": -180
    },
    "id": "RGOohkAgo-hW",
    "outputId": "0a2d2db4-fe9d-4ec4-c430-822c006681ff"
   },
   "outputs": [
    {
     "name": "stderr",
     "output_type": "stream",
     "text": [
      "/tmp/ipykernel_7771/1385862480.py:5: TqdmWarning: IProgress not found. Please update jupyter and ipywidgets. See https://ipywidgets.readthedocs.io/en/stable/user_install.html\n",
      "  from tqdm.autonotebook import tqdm\n"
     ]
    }
   ],
   "source": [
    "import matplotlib.pyplot as plt\n",
    "import numpy as np\n",
    "import time\n",
    "import itertools\n",
    "from tqdm.autonotebook import tqdm\n",
    "\n",
    "import torch\n",
    "from torch.utils.data import DataLoader\n",
    "\n",
    "from mot.data.data_track import MOT16Sequences,MOT16Sequence\n",
    "##from mot.data.data_obj_detect import MOT16ObjDetect\n",
    "from mot.models.object_detector import FRCNN_FPN\n",
    "from mot.tracker.base import Tracker\n",
    "from mot.utils import (plot_sequence, evaluate_mot_accums, get_mot_accum,\n",
    "                           evaluate_obj_detect, obj_detect_transforms)\n",
    "from market.models import build_model\n",
    "\n",
    "from scipy.optimize import linear_sum_assignment as linear_assignment\n",
    "\n",
    "import motmetrics as mm\n",
    "mm.lap.default_solver = 'lap'\n",
    "%matplotlib inline\n",
    "import collections\n",
    "\n",
    "import numpy as np\n",
    "import torch\n",
    "import torch.nn.functional as F\n",
    "import torchvision.transforms.functional as TF\n",
    "\n",
    "import motmetrics as mm\n",
    "from torchvision.ops.boxes import clip_boxes_to_image, nms\n",
    "\n",
    "mm.lap.default_solver = 'lap'\n",
    "\n",
    "import market.metrics as metrics"
   ]
  },
  {
   "cell_type": "code",
   "execution_count": 32,
   "metadata": {},
   "outputs": [],
   "source": [
    "seed = 43215\n",
    "torch.manual_seed(seed)\n",
    "torch.cuda.manual_seed(seed)\n",
    "np.random.seed(seed)\n",
    "torch.backends.cudnn.deterministic = True\n",
    "\n",
    "os.environ[\"CUDA_DEVICE_ORDER\"] = \"PCI_BUS_ID\"  # see issue #152\n",
    "os.environ[\"CUDA_VISIBLE_DEVICES\"] = \"2\"\n",
    "np.set_printoptions(suppress=True)\n",
    "\n",
    "_UNMATCHED_COST = 255.0\n"
   ]
  },
  {
   "cell_type": "code",
   "execution_count": null,
   "metadata": {},
   "outputs": [],
   "source": []
  },
  {
   "cell_type": "markdown",
   "metadata": {},
   "source": [
    "## Func"
   ]
  },
  {
   "cell_type": "code",
   "execution_count": 34,
   "metadata": {},
   "outputs": [],
   "source": [
    "def cosine_distance(input1, input2):\n",
    "    \"\"\"Computes cosine distance.\n",
    "    Args:\n",
    "        input1 (torch.Tensor): 2-D feature matrix (m x feat).\n",
    "        input2 (torch.Tensor): 2-D feature matrix (n x feat).\n",
    "    Returns:\n",
    "        torch.Tensor: distance matrix (m x n).\n",
    "    \"\"\"\n",
    "\n",
    "    # Given that cos_sim(u, v) = dot(u, v) / (norm(u) * norm(v))\n",
    "    #                          = dot(u / norm(u), v / norm(v))\n",
    "    # We fist normalize the rows, before computing their dot products via transposition:\n",
    "    norm1 = input1.norm(dim=1)[:, None]\n",
    "    norm2 = input2.norm(dim=1)[:, None]\n",
    "    input1_norm = input1 / norm1\n",
    "    input2_norm = input2 / norm2\n",
    "    cosine_similarity = torch.mm(input1_norm, input2_norm.t())\n",
    "    distmat = 1 - cosine_similarity\n",
    "    return distmat\n"
   ]
  },
  {
   "cell_type": "markdown",
   "metadata": {},
   "source": [
    "### load detector"
   ]
  },
  {
   "cell_type": "code",
   "execution_count": 8,
   "metadata": {},
   "outputs": [],
   "source": [
    "device = torch.device(\"cuda\") if torch.cuda.is_available() else torch.device(\"cpu\")\n"
   ]
  },
  {
   "cell_type": "code",
   "execution_count": 9,
   "metadata": {
    "executionInfo": {
     "elapsed": 328,
     "status": "ok",
     "timestamp": 1658910605340,
     "user": {
      "displayName": "Максим Голдин",
      "userId": "08631407013133915158"
     },
     "user_tz": -180
    },
    "id": "z2g7oHASTa8v"
   },
   "outputs": [
    {
     "name": "stderr",
     "output_type": "stream",
     "text": [
      "/data/home/m.goldin/anaconda3/envs/tracking/lib/python3.10/site-packages/torchvision/models/_utils.py:135: UserWarning: Using 'backbone_name' and 'weights' as positional parameter(s) is deprecated since 0.13 and will be removed in 0.15. Please use keyword parameter(s) instead.\n",
      "  warnings.warn(\n",
      "/data/home/m.goldin/anaconda3/envs/tracking/lib/python3.10/site-packages/torchvision/models/_utils.py:223: UserWarning: Arguments other than a weight enum or `None` for 'weights' are deprecated since 0.13 and will be removed in 0.15. The current behavior is equivalent to passing `weights=None`.\n",
      "  warnings.warn(msg)\n"
     ]
    }
   ],
   "source": [
    "obj_detect_model_file = os.path.join(root_dir, \"models/faster_rcnn_fpn.model\")\n",
    "obj_detect_nms_thresh = 0.3\n",
    "\n",
    "# object detector\n",
    "obj_detect = FRCNN_FPN(num_classes=2, nms_thresh=obj_detect_nms_thresh)\n",
    "obj_detect_state_dict = torch.load(\n",
    "    obj_detect_model_file, map_location=lambda storage, loc: storage\n",
    ")\n",
    "obj_detect.load_state_dict(obj_detect_state_dict)\n",
    "obj_detect.eval()\n",
    "obj_detect = obj_detect.to(device)\n"
   ]
  },
  {
   "cell_type": "markdown",
   "metadata": {},
   "source": [
    "## load reid model"
   ]
  },
  {
   "cell_type": "code",
   "execution_count": 10,
   "metadata": {},
   "outputs": [],
   "source": [
    "model_path = root_dir + \"/models/resnet34_reid_market.model\"\n",
    "reid_market_state_dict = torch.load(\n",
    "    model_path, map_location=lambda storage, loc: storage\n",
    ")\n",
    "reid_model = build_model(\"resnet34\", num_classes=751, loss=\"triplet\", pretrained=True)\n",
    "reid_model.load_state_dict(reid_market_state_dict)\n",
    "reid_model = reid_model.to(device)\n"
   ]
  },
  {
   "cell_type": "markdown",
   "metadata": {},
   "source": [
    "### load dataset"
   ]
  },
  {
   "cell_type": "code",
   "execution_count": 11,
   "metadata": {},
   "outputs": [],
   "source": [
    "seq_name = \"MOT16-02\"\n",
    "data_dir = os.path.join(root_dir, \"data/MOT16\")\n",
    "seq = MOT16Sequence(data_dir, seq_name=seq_name)\n"
   ]
  },
  {
   "cell_type": "markdown",
   "metadata": {},
   "source": [
    "## func"
   ]
  },
  {
   "cell_type": "code",
   "execution_count": 12,
   "metadata": {},
   "outputs": [],
   "source": [
    "def cosine_distance(input1, input2):\n",
    "    \"\"\"Computes cosine distance.\n",
    "    Args:\n",
    "        input1 (torch.Tensor): 2-D feature matrix (m x feat).\n",
    "        input2 (torch.Tensor): 2-D feature matrix (n x feat).\n",
    "    Returns:\n",
    "        torch.Tensor: distance matrix (m x n).\n",
    "    \"\"\"\n",
    "\n",
    "    # Given that cos_sim(u, v) = dot(u, v) / (norm(u) * norm(v))\n",
    "    #                          = dot(u / norm(u), v / norm(v))\n",
    "    # We fist normalize the rows, before computing their dot products via transposition:\n",
    "    norm1 = input1.norm(dim=1)[:, None]\n",
    "    norm2 = input2.norm(dim=1)[:, None]\n",
    "    input1_norm = input1 / norm1\n",
    "    input2_norm = input2 / norm2\n",
    "    cosine_similarity = torch.mm(input1_norm, input2_norm.t())\n",
    "    distmat = 1 - cosine_similarity\n",
    "    return distmat\n"
   ]
  },
  {
   "cell_type": "code",
   "execution_count": 13,
   "metadata": {
    "scrolled": true
   },
   "outputs": [],
   "source": [
    "class Track:\n",
    "    \"\"\"This class contains all necessary for every individual track.\"\"\"\n",
    "\n",
    "    def __init__(self, box, score, track_id, feature=None, inactive=0):\n",
    "        self.id = track_id\n",
    "        self.box = box\n",
    "        self.score = score\n",
    "        self.feature = collections.deque([feature])\n",
    "        self.inactive = inactive\n",
    "        self.max_features_num = 10\n",
    "\n",
    "    def add_feature(self, feature):\n",
    "        \"\"\"Adds new appearance features to the object.\"\"\"\n",
    "        self.feature.append(feature)\n",
    "        if len(self.feature) > self.max_features_num:\n",
    "            self.feature.popleft()\n",
    "\n",
    "    def get_feature(self):\n",
    "        if len(self.feature) > 1:\n",
    "            feature = torch.stack(list(self.feature), dim=0)\n",
    "        else:\n",
    "            feature = self.feature[0].unsqueeze(0)\n",
    "        return feature.mean(0, keepdim=False)\n",
    "\n",
    "    def __repr__(self):\n",
    "        return f\"track_id = {self.id} score = {self.score:.2f} bbox = {self.box}\"\n"
   ]
  },
  {
   "cell_type": "markdown",
   "metadata": {},
   "source": [
    "# reidTracker class"
   ]
  },
  {
   "cell_type": "code",
   "execution_count": 14,
   "metadata": {},
   "outputs": [],
   "source": [
    "class ReIDHungarianTracker(Tracker):\n",
    "    def add(self, new_boxes, new_scores, new_features):\n",
    "        \"\"\"Initializes new Track objects and saves them.\"\"\"\n",
    "        num_new = len(new_boxes)\n",
    "        for i in range(num_new):\n",
    "            self.tracks.append(\n",
    "                Track(new_boxes[i], new_scores[i], self.track_num + i, new_features[i])\n",
    "            )\n",
    "        self.track_num += num_new\n",
    "\n",
    "    def reset(self, hard=True):\n",
    "        self.tracks = []\n",
    "        # self.inactive_tracks = []\n",
    "\n",
    "        if hard:\n",
    "            self.track_num = 0\n",
    "            self.results = {}\n",
    "            self.im_index = 0\n",
    "\n",
    "    def step(self, frame):\n",
    "        \"\"\"This function should be called every timestep to perform tracking with a blob\n",
    "        containing the image information.\n",
    "        \"\"\"\n",
    "        # object detection\n",
    "        boxes, scores = self.obj_detect.detect(frame[\"img\"])\n",
    "\n",
    "        self.data_association(boxes, scores, frame[\"img\"])\n",
    "\n",
    "        # results\n",
    "        for t in self.tracks:\n",
    "            if t.id not in self.results.keys():\n",
    "                self.results[t.id] = {}\n",
    "            self.results[t.id][self.im_index] = np.concatenate(\n",
    "                [t.box.cpu().numpy(), np.array([t.score])]\n",
    "            )\n",
    "\n",
    "        self.im_index += 1\n",
    "\n",
    "    def get_crop_from_boxes(self, boxes, frame, height=256, width=128):\n",
    "        \"\"\"Crops all persons from a frame given the boxes.\n",
    "\n",
    "        Args:\n",
    "                boxes: The bounding boxes.\n",
    "                frame: The current frame.\n",
    "                height (int, optional): [description]. Defaults to 256.\n",
    "                width (int, optional): [description]. Defaults to 128.\n",
    "        \"\"\"\n",
    "        person_crops = []\n",
    "        norm_mean = [0.485, 0.456, 0.406]  # imagenet mean\n",
    "        norm_std = [0.229, 0.224, 0.225]  # imagenet std\n",
    "        for box in boxes:\n",
    "            box = box.to(torch.int32)\n",
    "            res = frame[:, :, box[1] : box[3], box[0] : box[2]]\n",
    "            res = F.interpolate(res, (height, width), mode=\"bilinear\")\n",
    "            res = TF.normalize(res[0, ...], norm_mean, norm_std)\n",
    "            person_crops.append(res.unsqueeze(0))\n",
    "\n",
    "        return person_crops\n",
    "\n",
    "    def compute_reid_features(self, model, crops):\n",
    "        f_ = []\n",
    "        model.eval()\n",
    "        with torch.no_grad():\n",
    "            for data in crops:\n",
    "                img = data.cuda()\n",
    "                features = model(img)\n",
    "                features = features.cpu().clone()\n",
    "                f_.append(features)\n",
    "            f_ = torch.cat(f_, 0)\n",
    "            return f_\n",
    "\n",
    "    def compute_distance_matrix(\n",
    "        self, track_features, pred_features, track_boxes, boxes, metric_fn, alpha=0.0\n",
    "    ):\n",
    "        UNMATCHED_COST = 255.0\n",
    "\n",
    "        # Build cost matrix.\n",
    "        distance_iou = mm.distances.iou_matrix(\n",
    "            track_boxes.numpy(), boxes.numpy(), max_iou=0.5\n",
    "        )\n",
    "\n",
    "        appearance_distance = metrics.compute_distance_matrix(\n",
    "            track_features, pred_features, metric_fn=metric_fn\n",
    "        )\n",
    "        appearance_distance = appearance_distance.numpy() * 0.5\n",
    "        # return appearance_distance\n",
    "\n",
    "        assert np.alltrue(appearance_distance >= -0.1)\n",
    "        assert np.alltrue(appearance_distance <= 1.1)\n",
    "\n",
    "        combined_costs = alpha * distance_iou + (1 - alpha) * appearance_distance\n",
    "\n",
    "        # Set all unmatched costs to _UNMATCHED_COST.\n",
    "        distance = np.where(np.isnan(distance_iou), UNMATCHED_COST, combined_costs)\n",
    "        return distance, appearance_distance, distance_iou\n",
    "\n",
    "    def data_association(self, boxes, scores, frame):\n",
    "        crops = self.get_crop_from_boxes(boxes, frame)\n",
    "        pred_features = self.compute_reid_features(reid_model, crops).cpu().clone()\n",
    "        if self.tracks:\n",
    "            track_ids = [t.id for t in self.tracks]\n",
    "            track_boxes = torch.stack([t.box for t in self.tracks], axis=0)\n",
    "            track_features = torch.stack([t.get_feature() for t in self.tracks], axis=0)\n",
    "\n",
    "            # This will use your similarity measure. Please use cosine_distance!\n",
    "            distance, appearance_distance, distance_iou = self.compute_distance_matrix(\n",
    "                track_features,\n",
    "                pred_features,\n",
    "                track_boxes,\n",
    "                boxes,\n",
    "                metric_fn=cosine_distance,\n",
    "            )\n",
    "            distance_list.append(distance)\n",
    "            appearance_distance_list.append(appearance_distance)\n",
    "            distance_iou_list.append(distance_iou)\n",
    "            # Perform Hungarian matching.\n",
    "            row_idx, col_idx = linear_assignment(distance)\n",
    "            row_ids_list.append(row_idx)\n",
    "            col_ids_list.append(col_idx)\n",
    "            track_ids_list.append(track_ids)\n",
    "\n",
    "            remove_track_ids = []\n",
    "            seen_track_ids = []\n",
    "            seen_box_idx = []\n",
    "\n",
    "            for track_idx, box_idx in zip(row_idx, col_idx):\n",
    "                costs = distance[track_idx, box_idx]\n",
    "                internal_track_id = track_ids[track_idx]\n",
    "                seen_track_ids.append(internal_track_id)\n",
    "                if costs == _UNMATCHED_COST:\n",
    "                    remove_track_ids.append(internal_track_id)\n",
    "                else:\n",
    "                    self.tracks[track_idx].box = boxes[box_idx]\n",
    "                    self.tracks[track_idx].add_feature(pred_features[box_idx])\n",
    "                    seen_box_idx.append(box_idx)\n",
    "\n",
    "            unseen_track_ids = set(track_ids) - set(seen_track_ids)\n",
    "            remove_track_ids.extend(list(unseen_track_ids))\n",
    "            self.tracks = [t for t in self.tracks if t.id not in remove_track_ids]\n",
    "\n",
    "            # row_idx and col_idx are indices into track_boxes and boxes.\n",
    "            # row_idx[i] and col_idx[i] define a match.\n",
    "            # distance[row_idx[i], col_idx[i]] define the cost for that matching.\n",
    "\n",
    "            #  If the costs are equal to _UNMATCHED_COST, it's not a\n",
    "            # match. Be careful with override self.tracks, as past tracks will\n",
    "            # be gone.\n",
    "\n",
    "            #  Please update the feature of a track by using add_feature:\n",
    "            # self.tracks[my_track_id].add_feature(pred_features[my_feat_index])\n",
    "            # Reason: We use the mean feature from the last 10 frames for ReID.\n",
    "\n",
    "            new_boxes_idx = set(range(len(boxes))) - set(seen_box_idx)\n",
    "            new_boxes = [boxes[i] for i in new_boxes_idx]\n",
    "            new_scores = [scores[i] for i in new_boxes_idx]\n",
    "            new_features = [pred_features[i] for i in new_boxes_idx]\n",
    "            self.add(new_boxes, new_scores, new_features)\n",
    "        else:\n",
    "            # No tracks exist.\n",
    "            self.add(boxes, scores, pred_features)\n"
   ]
  },
  {
   "cell_type": "markdown",
   "metadata": {},
   "source": [
    "## TMP files to save "
   ]
  },
  {
   "cell_type": "code",
   "execution_count": 15,
   "metadata": {},
   "outputs": [
    {
     "name": "stdout",
     "output_type": "stream",
     "text": [
      "Tracking: MOT16-02\n"
     ]
    }
   ],
   "source": [
    "print(f\"Tracking: {seq}\")\n",
    "data_loader = DataLoader(seq, batch_size=1, shuffle=False)\n",
    "firstn_loader = itertools.islice(data_loader, 10)\n"
   ]
  },
  {
   "cell_type": "code",
   "execution_count": 16,
   "metadata": {},
   "outputs": [],
   "source": [
    "tracker = ReIDHungarianTracker(obj_detect)\n"
   ]
  },
  {
   "cell_type": "code",
   "execution_count": 17,
   "metadata": {},
   "outputs": [
    {
     "name": "stdout",
     "output_type": "stream",
     "text": [
      "pred_features.shape =  torch.Size([15, 512])\n"
     ]
    }
   ],
   "source": [
    "print(\"pred_features.shape =  torch.Size([15, 512])\")\n"
   ]
  },
  {
   "cell_type": "code",
   "execution_count": 18,
   "metadata": {},
   "outputs": [
    {
     "name": "stderr",
     "output_type": "stream",
     "text": [
      "10it [00:01,  6.54it/s]"
     ]
    },
    {
     "name": "stdout",
     "output_type": "stream",
     "text": [
      "Tracks found: 19\n"
     ]
    },
    {
     "name": "stderr",
     "output_type": "stream",
     "text": [
      "\n"
     ]
    }
   ],
   "source": [
    "distance_list = []\n",
    "appearance_distance_list = []\n",
    "distance_iou_list = []\n",
    "row_ids_list = []\n",
    "col_ids_list = []\n",
    "track_ids_list = []\n",
    "\n",
    "tracker.reset()\n",
    "\n",
    "for frame in tqdm(firstn_loader):\n",
    "    tracker.step(frame)\n",
    "\n",
    "results = tracker.get_results()\n",
    "print(f\"Tracks found: {len(results)}\")\n"
   ]
  },
  {
   "cell_type": "markdown",
   "metadata": {},
   "source": [
    "# describe insights insides"
   ]
  },
  {
   "cell_type": "code",
   "execution_count": null,
   "metadata": {},
   "outputs": [],
   "source": []
  },
  {
   "cell_type": "code",
   "execution_count": 20,
   "metadata": {},
   "outputs": [
    {
     "name": "stdout",
     "output_type": "stream",
     "text": [
      "distance_list contain results dist, len(distance_list) = 9\n",
      "appearance_distance_list contain reid dist, len(appearance_distance_list) = 9\n",
      "distance_iou_list contain iou intersection dist, len(distance_iou_list) = 9\n"
     ]
    }
   ],
   "source": [
    "print(f\"distance_list contain results dist, len(distance_list) = {len(distance_list)}\")\n",
    "print(\n",
    "    f\"appearance_distance_list contain reid dist, len(appearance_distance_list) = {len(appearance_distance_list)}\"\n",
    ")\n",
    "print(\n",
    "    f\"distance_iou_list contain iou intersection dist, len(distance_iou_list) = {len(distance_iou_list)}\"\n",
    ")\n"
   ]
  },
  {
   "cell_type": "code",
   "execution_count": 21,
   "metadata": {},
   "outputs": [],
   "source": [
    "seq_num = -5\n",
    "dist = distance_list[seq_num]\n",
    "row_ids = row_ids_list[seq_num]\n",
    "col_ids = col_ids_list[seq_num]\n",
    "track_ids = track_ids_list[seq_num]\n"
   ]
  },
  {
   "cell_type": "code",
   "execution_count": 22,
   "metadata": {},
   "outputs": [
    {
     "data": {
      "text/plain": [
       "(array([ 0,  1,  2,  3,  4,  5,  6,  7,  8,  9, 10, 11, 12, 13, 14, 15]),\n",
       " array([ 0,  1,  5,  2,  6,  7,  4,  8,  3, 12,  9, 13, 11, 14, 15, 10]))"
      ]
     },
     "execution_count": 22,
     "metadata": {},
     "output_type": "execute_result"
    }
   ],
   "source": [
    "row_ids, col_ids\n"
   ]
  },
  {
   "cell_type": "code",
   "execution_count": 23,
   "metadata": {},
   "outputs": [
    {
     "name": "stdout",
     "output_type": "stream",
     "text": [
      "track_idx=0, box_idx=0, costs=0.0008519589900970459\n",
      "track_idx=1, box_idx=1, costs=0.0052249133586883545\n",
      "track_idx=2, box_idx=5, costs=0.0008480250835418701\n",
      "track_idx=3, box_idx=2, costs=0.002408623695373535\n",
      "track_idx=4, box_idx=6, costs=0.0021851956844329834\n",
      "track_idx=5, box_idx=7, costs=0.0048639774322509766\n",
      "track_idx=6, box_idx=4, costs=0.007331192493438721\n",
      "track_idx=7, box_idx=8, costs=0.005859017372131348\n",
      "track_idx=8, box_idx=3, costs=0.0018106400966644287\n",
      "track_idx=9, box_idx=12, costs=0.006718754768371582\n",
      "track_idx=10, box_idx=9, costs=0.001518845558166504\n",
      "track_idx=11, box_idx=13, costs=0.06050693988800049\n",
      "track_idx=12, box_idx=11, costs=0.010566294193267822\n",
      "track_idx=13, box_idx=14, costs=0.004970133304595947\n",
      "track_idx=14, box_idx=15, costs=0.008618533611297607\n",
      "track_idx=15, box_idx=10, costs=0.003927171230316162\n"
     ]
    }
   ],
   "source": [
    "for track_idx, box_idx in zip(row_ids, col_ids):\n",
    "    costs = dist[track_idx, box_idx]\n",
    "    # internal_track_id = track_ids[track_idx]\n",
    "    print(f\"{track_idx=}, {box_idx=}, {costs=}\")\n"
   ]
  },
  {
   "cell_type": "code",
   "execution_count": 28,
   "metadata": {},
   "outputs": [],
   "source": [
    "import matplotlib.pyplot as plt\n",
    "\n",
    "\n",
    "def plot_hist(d, bins, title):\n",
    "    n, bins, patches = plt.hist(x=d, bins=bins, color=\"#0504aa\", alpha=0.7, rwidth=0.85)\n",
    "    plt.grid(axis=\"y\", alpha=0.75)\n",
    "    plt.xlabel(\"Value\")\n",
    "    plt.ylabel(\"Frequency\")\n",
    "    plt.title(title)\n",
    "    maxfreq = n.max()\n",
    "    # Set a clean upper y-axis limit.\n",
    "    plt.ylim(ymax=np.ceil(maxfreq / 10) * 10 if maxfreq % 10 else maxfreq + 10)\n"
   ]
  },
  {
   "cell_type": "code",
   "execution_count": 29,
   "metadata": {},
   "outputs": [
    {
     "data": {
      "image/png": "[encoded data removed]",
      "text/plain": [
       "<Figure size 640x480 with 1 Axes>"
      ]
     },
     "metadata": {},
     "output_type": "display_data"
    }
   ],
   "source": [
    "plot_hist(appearance_distance_list[0].ravel(), bins=\"auto\", title=\"appearance_distance\")\n"
   ]
  },
  {
   "cell_type": "code",
   "execution_count": 30,
   "metadata": {},
   "outputs": [
    {
     "data": {
      "image/png": "[encoded data removed]",
      "text/plain": [
       "<Figure size 640x480 with 1 Axes>"
      ]
     },
     "metadata": {},
     "output_type": "display_data"
    }
   ],
   "source": [
    "plot_hist(distance_iou_list[0].ravel(), bins=\"auto\", title=\"distance_iou\")\n"
   ]
  },
  {
   "cell_type": "markdown",
   "metadata": {
    "id": "-KEDZJVwQ6DX"
   },
   "source": [
    "## Example sequences"
   ]
  },
  {
   "cell_type": "code",
   "execution_count": null,
   "metadata": {
    "id": "0nSs-bUZqerq"
   },
   "outputs": [],
   "source": []
  }
 ],
 "metadata": {
  "accelerator": "GPU",
  "colab": {
   "collapsed_sections": [],
   "machine_shape": "hm",
   "name": "Exercise_ReID.ipynb",
   "provenance": [],
   "toc_visible": true
  },
  "kernelspec": {
   "display_name": "Python 3.10.4 ('tracking')",
   "language": "python",
   "name": "python3"
  },
  "language_info": {
   "codemirror_mode": {
    "name": "ipython",
    "version": 3
   },
   "file_extension": ".py",
   "mimetype": "text/x-python",
   "name": "python",
   "nbconvert_exporter": "python",
   "pygments_lexer": "ipython3",
   "version": "3.10.4 (main, Mar 31 2022, 08:41:55) [GCC 7.5.0]"
  },
  "vscode": {
   "interpreter": {
    "hash": "d0cafbbefa557af0eb434e43229a0bc3a94a7b3610e45211e67837890fcbccc6"
   }
  }
 },
 "nbformat": 4,
 "nbformat_minor": 1
}
