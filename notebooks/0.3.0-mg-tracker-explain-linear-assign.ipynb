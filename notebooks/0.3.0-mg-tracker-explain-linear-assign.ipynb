{
 "cells": [
  {
   "cell_type": "markdown",
   "metadata": {},
   "source": [
    "# Что посмотреть?\n",
    "- distance = self.compute_distance_matrix(track_features, pred_features,track_boxes, boxes, metric_fn=cosine_distance)\n",
    "    - cos = (-1,1) и как внутри это все визуализируется и согласуется с обычнми фичами = 255\n",
    "- row_idx, col_idx = linear_assignment(distance)\n"
   ]
  },
  {
   "cell_type": "code",
   "execution_count": null,
   "metadata": {},
   "outputs": [],
   "source": []
  },
  {
   "cell_type": "markdown",
   "metadata": {
    "id": "LFYSSMiwpxSq"
   },
   "source": [
    "#### Install and import Python libraries"
   ]
  },
  {
   "cell_type": "code",
   "execution_count": null,
   "metadata": {},
   "outputs": [],
   "source": [
    "%load_ext autoreload\n",
    "%autoreload 2\n"
   ]
  },
  {
   "cell_type": "code",
   "execution_count": null,
   "metadata": {
    "colab": {
     "base_uri": "https://localhost:8080/"
    },
    "executionInfo": {
     "elapsed": 15351,
     "status": "ok",
     "timestamp": 1658910410246,
     "user": {
      "displayName": "Максим Голдин",
      "userId": "08631407013133915158"
     },
     "user_tz": -180
    },
    "id": "KRMsynpFU6gh",
    "outputId": "cb3ecbe0-7e78-49d3-9aae-03fa8028006a"
   },
   "outputs": [],
   "source": [
    "\n",
    "import os\n",
    "import sys\n",
    "root_dir = \"..\"\n",
    "sys.path.append(os.path.join(root_dir, 'src'))\n"
   ]
  },
  {
   "cell_type": "code",
   "execution_count": null,
   "metadata": {
    "colab": {
     "base_uri": "https://localhost:8080/"
    },
    "executionInfo": {
     "elapsed": 5345,
     "status": "ok",
     "timestamp": 1658910415580,
     "user": {
      "displayName": "Максим Голдин",
      "userId": "08631407013133915158"
     },
     "user_tz": -180
    },
    "id": "RGOohkAgo-hW",
    "outputId": "0a2d2db4-fe9d-4ec4-c430-822c006681ff"
   },
   "outputs": [],
   "source": [
    "import matplotlib.pyplot as plt\n",
    "import numpy as np\n",
    "import time\n",
    "from tqdm.autonotebook import tqdm\n",
    "\n",
    "import torch\n",
    "from torch.utils.data import DataLoader\n",
    "\n",
    "from tracker.data_track import MOT16Sequences\n",
    "from tracker.data_obj_detect import MOT16ObjDetect\n",
    "from tracker.object_detector import FRCNN_FPN\n",
    "from tracker.tracker import Tracker\n",
    "from tracker.utils import (plot_sequence, evaluate_mot_accums, get_mot_accum,\n",
    "                           evaluate_obj_detect, obj_detect_transforms)\n",
    "\n",
    "from scipy.optimize import linear_sum_assignment as linear_assignment\n",
    "\n",
    "import motmetrics as mm\n",
    "mm.lap.default_solver = 'lap'\n",
    "%matplotlib inline\n"
   ]
  },
  {
   "cell_type": "markdown",
   "metadata": {
    "id": "-KEDZJVwQ6DX"
   },
   "source": [
    "## Example sequences"
   ]
  },
  {
   "cell_type": "code",
   "execution_count": null,
   "metadata": {
    "colab": {
     "base_uri": "https://localhost:8080/",
     "height": 507
    },
    "executionInfo": {
     "elapsed": 15257,
     "status": "ok",
     "timestamp": 1658910456088,
     "user": {
      "displayName": "Максим Голдин",
      "userId": "08631407013133915158"
     },
     "user_tz": -180
    },
    "id": "7rDoJXYBr0FL",
    "outputId": "9f948e25-5589-4adc-c0c4-e187ff91226f"
   },
   "outputs": [],
   "source": [
    "seq_name = 'MOT16-02'\n",
    "data_dir = os.path.join(root_dir, 'data/MOT16')\n",
    "sequences = MOT16Sequences(seq_name, data_dir, load_seg=True) # Get a coffee.\n",
    "\n",
    "for seq in sequences:\n",
    "    for i, frame in enumerate(seq):\n",
    "        img = frame['img']\n",
    "        \n",
    "        dpi = 96\n",
    "        fig, ax = plt.subplots(1, dpi=dpi)\n",
    "\n",
    "        img = img.mul(255).permute(1, 2, 0).byte().numpy()\n",
    "        width, height, _ = img.shape\n",
    "          \n",
    "        ax.imshow(img, cmap='gray')\n",
    "        fig.set_size_inches(width / dpi, height / dpi)\n",
    "\n",
    "        if 'gt' in frame:\n",
    "            gt = frame['gt']\n",
    "            for gt_id, box in gt.items():\n",
    "                rect = plt.Rectangle(\n",
    "                  (box[0], box[1]),\n",
    "                  box[2] - box[0],\n",
    "                  box[3] - box[1],\n",
    "                  fill=False,\n",
    "                  linewidth=1.0)\n",
    "                ax.add_patch(rect)\n",
    "\n",
    "        plt.axis('off')\n",
    "        plt.show()\n",
    "        break"
   ]
  },
  {
   "cell_type": "markdown",
   "metadata": {
    "id": "-Qubi7uE6EPd"
   },
   "source": [
    "\n",
    "## Configuration"
   ]
  },
  {
   "cell_type": "code",
   "execution_count": null,
   "metadata": {
    "executionInfo": {
     "elapsed": 328,
     "status": "ok",
     "timestamp": 1658910605340,
     "user": {
      "displayName": "Максим Голдин",
      "userId": "08631407013133915158"
     },
     "user_tz": -180
    },
    "id": "z2g7oHASTa8v"
   },
   "outputs": [],
   "source": [
    "obj_detect_model_file = os.path.join(root_dir, 'models/faster_rcnn_fpn.model')\n",
    "obj_detect_nms_thresh = 0.3"
   ]
  },
  {
   "cell_type": "code",
   "execution_count": null,
   "metadata": {
    "colab": {
     "base_uri": "https://localhost:8080/"
    },
    "executionInfo": {
     "elapsed": 6958,
     "status": "ok",
     "timestamp": 1658910615060,
     "user": {
      "displayName": "Максим Голдин",
      "userId": "08631407013133915158"
     },
     "user_tz": -180
    },
    "id": "JIXdzYMnMhiW",
    "outputId": "1779756c-9c2b-43f8-c2ef-8d2fd6f2e195"
   },
   "outputs": [],
   "source": [
    "device = torch.device('cuda') if torch.cuda.is_available() else torch.device('cpu')\n",
    "\n",
    "# object detector\n",
    "obj_detect = FRCNN_FPN(num_classes=2, nms_thresh=obj_detect_nms_thresh)\n",
    "obj_detect_state_dict = torch.load(obj_detect_model_file,\n",
    "                                   map_location=lambda storage, loc: storage)\n",
    "obj_detect.load_state_dict(obj_detect_state_dict)\n",
    "obj_detect.eval()\n",
    "obj_detect = obj_detect.to(device)"
   ]
  },
  {
   "cell_type": "code",
   "execution_count": null,
   "metadata": {
    "executionInfo": {
     "elapsed": 22400,
     "status": "ok",
     "timestamp": 1658910682777,
     "user": {
      "displayName": "Максим Голдин",
      "userId": "08631407013133915158"
     },
     "user_tz": -180
    },
    "id": "pc6EXVCyBhtV"
   },
   "outputs": [],
   "source": [
    "dataset_test = MOT16ObjDetect(os.path.join(root_dir, 'data/MOT16/train'),\n",
    "                              obj_detect_transforms(train=False))\n",
    "def collate_fn(batch):\n",
    "    return tuple(zip(*batch))\n",
    "data_loader_test = DataLoader(\n",
    "    dataset_test, batch_size=1, shuffle=False, num_workers=2,\n",
    "    collate_fn=collate_fn)\n",
    "\n",
    "# evaluate_obj_detect(obj_detect, data_loader_test)"
   ]
  },
  {
   "cell_type": "markdown",
   "metadata": {
    "id": "WGszq40utUfA"
   },
   "source": [
    "# Multi-object tracking\n",
    "\n",
    "We provide you with a simple baseline tracker which predicts object detections for each frame and generates tracks by assigning current detections to previous detections via Intersection over Union.\n",
    "\n",
    "## Configuration"
   ]
  },
  {
   "cell_type": "code",
   "execution_count": null,
   "metadata": {
    "executionInfo": {
     "elapsed": 14,
     "status": "ok",
     "timestamp": 1658910682779,
     "user": {
      "displayName": "Максим Голдин",
      "userId": "08631407013133915158"
     },
     "user_tz": -180
    },
    "id": "eQTAqnFptwul"
   },
   "outputs": [],
   "source": [
    "seed = 12345\n",
    "seq_name = 'MOT16-reid'  # We recommend to use this subset.\n",
    "data_dir = os.path.join(root_dir, 'data/MOT16')\n",
    "output_dir = os.path.join(root_dir, 'output')"
   ]
  },
  {
   "cell_type": "markdown",
   "metadata": {
    "id": "N5KgKxhmMm1r"
   },
   "source": [
    "## Setup"
   ]
  },
  {
   "cell_type": "code",
   "execution_count": null,
   "metadata": {
    "id": "jV2c5yengHyC"
   },
   "outputs": [],
   "source": [
    "torch.manual_seed(seed)\n",
    "torch.cuda.manual_seed(seed)\n",
    "np.random.seed(seed)\n",
    "torch.backends.cudnn.deterministic = True\n",
    "\n",
    "# dataset\n",
    "sequences = MOT16Sequences(seq_name, data_dir)"
   ]
  },
  {
   "cell_type": "code",
   "execution_count": null,
   "metadata": {
    "id": "8URvpTpBgQRn"
   },
   "outputs": [],
   "source": [
    "# Old Tracker\n",
    "class BaseTrackerIoU(Tracker):\n",
    "\n",
    "    def data_association(self, boxes, scores):\n",
    "        if self.tracks:\n",
    "            track_ids = [t.id for t in self.tracks]\n",
    "            track_boxes = np.stack([t.box.numpy() for t in self.tracks], axis=0)\n",
    "            \n",
    "            distance = mm.distances.iou_matrix(track_boxes, boxes.numpy(), max_iou=0.5)\n",
    "\n",
    "            # update existing tracks\n",
    "            remove_track_ids = []\n",
    "            for t, dist in zip(self.tracks, distance):\n",
    "                if np.isnan(dist).all():\n",
    "                    remove_track_ids.append(t.id)\n",
    "                else:\n",
    "                    match_id = np.nanargmin(dist)\n",
    "                    t.box = boxes[match_id]\n",
    "            self.tracks = [t for t in self.tracks\n",
    "                           if t.id not in remove_track_ids]\n",
    "\n",
    "            # add new tracks\n",
    "            new_boxes = []\n",
    "            new_scores = []\n",
    "            for i, dist in enumerate(np.transpose(distance)):\n",
    "                if np.isnan(dist).all():\n",
    "                    new_boxes.append(boxes[i])\n",
    "                    new_scores.append(scores[i])\n",
    "            self.add(new_boxes, new_scores)\n",
    "\n",
    "        else:\n",
    "            self.add(boxes, scores)"
   ]
  },
  {
   "cell_type": "code",
   "execution_count": null,
   "metadata": {
    "id": "Tr3UVYCTuLyW"
   },
   "outputs": [],
   "source": []
  },
  {
   "cell_type": "code",
   "execution_count": null,
   "metadata": {},
   "outputs": [],
   "source": []
  },
  {
   "cell_type": "code",
   "execution_count": null,
   "metadata": {},
   "outputs": [],
   "source": [
    "from market.models import build_model\n"
   ]
  },
  {
   "cell_type": "code",
   "execution_count": null,
   "metadata": {},
   "outputs": [],
   "source": [
    "reid_model = build_model('resnet34', num_classes=751, loss='triplet', pretrained=True)\n",
    "reid_model = reid_model.cuda()\n"
   ]
  },
  {
   "cell_type": "code",
   "execution_count": null,
   "metadata": {},
   "outputs": [],
   "source": [
    "model_path = root_dir+'/models/resnet34_reid_market.model'\n",
    "\n",
    "reid_market_state_dict = torch.load(model_path,\n",
    "                                   map_location=lambda storage, loc: storage)\n",
    "reid_model.load_state_dict(reid_market_state_dict)"
   ]
  },
  {
   "cell_type": "code",
   "execution_count": null,
   "metadata": {},
   "outputs": [],
   "source": [
    "_UNMATCHED_COST = 255.0\n",
    "class HungarianIoUTracker(Tracker):\n",
    "\n",
    "    def data_association(self, boxes, scores):\n",
    "        if self.tracks:\n",
    "            track_ids = [t.id for t in self.tracks]\n",
    "            track_boxes = np.stack([t.box.numpy() for t in self.tracks], axis=0)\n",
    "            \n",
    "            # Build cost matrix.\n",
    "            distance = mm.distances.iou_matrix(track_boxes, boxes.numpy(), max_iou=0.5)\n",
    "\n",
    "            # Set all unmatched costs to _UNMATCHED_COST.\n",
    "            distance = np.where(np.isnan(distance), _UNMATCHED_COST, distance)\n",
    "            # Perform Hungarian matching.\n",
    "            \n",
    "            # row_idx and col_idx are indices into track_boxes and boxes.\n",
    "            # row_idx[i] and col_idx[i] define a match.\n",
    "            # distance[row_idx[i], col_idx[i]] define the cost for that matching.\n",
    "            row_idx, col_idx = linear_assignment(distance)\n",
    "            min_dist = distance[row_idx,col_idx]\n",
    "            \n",
    "            #If the costs are equal to _UNMATCHED_COST, it's not a \n",
    "            # match.\n",
    "            \n",
    "            condition = min_dist<_UNMATCHED_COST\n",
    "            bad_idx = np.argwhere(~condition)\n",
    "            good_idx = np.argwhere(condition)\n",
    "            \n",
    "            internal_idx_bad_track  = row_idx[bad_idx].ravel()\n",
    "            internal_idx_bad_bbox = col_idx[bad_idx].ravel()\n",
    "            \n",
    "            internal_idx_good_tracks = row_idx[good_idx].ravel()\n",
    "            internal_idx_good_boxes = col_idx[good_idx].ravel()\n",
    "            tracks_to_update = []\n",
    "            \n",
    "            for int_track_idx, int_box_idx in zip(\n",
    "                internal_idx_good_tracks,\n",
    "                internal_idx_good_boxes\n",
    "            ):\n",
    "                t = self.tracks[int_track_idx]\n",
    "                t.box = boxes[int_box_idx]\n",
    "                tracks_to_update.append(t)\n",
    "            self.tracks = tracks_to_update\n",
    "            \n",
    "            \n",
    "            \n",
    "            internal_idx_unseen_boxes = set(range(len(boxes))) - set(col_idx) \n",
    "            internal_idx_new_boxes = internal_idx_unseen_boxes | set(internal_idx_bad_bbox)\n",
    "            new_boxes = [boxes[i] for i in internal_idx_new_boxes]\n",
    "            new_scores = [scores[i] for i in internal_idx_new_boxes]\n",
    "            \n",
    "            self.add(new_boxes, new_scores)\n",
    "        else:\n",
    "            # No tracks exist.\n",
    "            self.add(boxes, scores)"
   ]
  },
  {
   "cell_type": "code",
   "execution_count": null,
   "metadata": {},
   "outputs": [],
   "source": [
    "def cosine_distance(input1, input2):\n",
    "    \"\"\"Computes cosine distance.\n",
    "    Args:\n",
    "        input1 (torch.Tensor): 2-D feature matrix (m x feat).\n",
    "        input2 (torch.Tensor): 2-D feature matrix (n x feat).\n",
    "    Returns:\n",
    "        torch.Tensor: distance matrix (m x n).\n",
    "    \"\"\"\n",
    "\n",
    "    # Given that cos_sim(u, v) = dot(u, v) / (norm(u) * norm(v))\n",
    "    #                          = dot(u / norm(u), v / norm(v))\n",
    "    # We fist normalize the rows, before computing their dot products via transposition:\n",
    "    norm1 = input1.norm(dim=1)[:, None]\n",
    "    norm2 = input2.norm(dim=1)[:, None]\n",
    "    input1_norm = input1/norm1\n",
    "    input2_norm = input2/norm2\n",
    "    cosine_similarity = torch.mm(input1_norm, input2_norm.t())\n",
    "    distmat = 1 - cosine_similarity\n",
    "    return distmat"
   ]
  },
  {
   "cell_type": "code",
   "execution_count": null,
   "metadata": {},
   "outputs": [],
   "source": [
    "from tracker.tracker import Tracker, ReIDTracker\n"
   ]
  },
  {
   "cell_type": "code",
   "execution_count": null,
   "metadata": {},
   "outputs": [],
   "source": [
    "_UNMATCHED_COST = 255.0\n",
    "class ReIDHungarianIoUTracker(ReIDTracker):\n",
    "\n",
    "    def data_association(self, boxes, scores, frame):\n",
    "        crops = self.get_crop_from_boxes(boxes, frame)\n",
    "        pred_features = self.compute_reid_features(reid_model, crops).cpu().clone()\n",
    "        \n",
    "        if self.tracks:\n",
    "            track_ids = [t.id for t in self.tracks]\n",
    "            track_boxes = torch.stack([t.box for t in self.tracks], axis=0)\n",
    "            track_features = torch.stack([t.get_feature() for t in self.tracks], axis=0)\n",
    "            \n",
    "            # This will use your similarity measure. Please use cosine_distance!\n",
    "            distance = self.compute_distance_matrix(track_features, pred_features,\n",
    "                                                    track_boxes, boxes, metric_fn=cosine_distance)\n",
    "\n",
    "            # Perform Hungarian matching.\n",
    "            row_idx, col_idx = linear_assignment(distance)\n",
    "            \n",
    "            remove_track_ids = []\n",
    "            seen_track_ids = []\n",
    "            seen_box_idx = []\n",
    "            for track_idx, box_idx in zip(row_idx, col_idx):\n",
    "                costs = distance[track_idx, box_idx] \n",
    "                internal_track_id = track_ids[track_idx]\n",
    "                seen_track_ids.append(internal_track_id)\n",
    "                if costs == _UNMATCHED_COST:\n",
    "                    remove_track_ids.append(internal_track_id)\n",
    "                else:\n",
    "                    self.tracks[track_idx].box = boxes[box_idx]\n",
    "                    self.tracks[track_idx].add_feature(pred_features[box_idx])\n",
    "                    seen_box_idx.append(box_idx)\n",
    "            \n",
    "            unseen_track_ids = set(track_ids) - set(seen_track_ids)\n",
    "            remove_track_ids.extend(list(unseen_track_ids))\n",
    "            self.tracks = [t for t in self.tracks\n",
    "                           if t.id not in remove_track_ids]\n",
    "\n",
    "            \n",
    "            # row_idx and col_idx are indices into track_boxes and boxes.\n",
    "            # row_idx[i] and col_idx[i] define a match.\n",
    "            # distance[row_idx[i], col_idx[i]] define the cost for that matching.\n",
    "\n",
    "            # TODO: Update existing tracks and remove unmatched tracks.\n",
    "            # Reminder: If the costs are equal to _UNMATCHED_COST, it's not a \n",
    "            # match. Be careful with override self.tracks, as past tracks will \n",
    "            # be gone.\n",
    "\n",
    "            # NOTICE: Please update the feature of a track by using add_feature:\n",
    "            # self.tracks[my_track_id].add_feature(pred_features[my_feat_index])\n",
    "            # Reason: We use the mean feature from the last 10 frames for ReID.\n",
    "            \n",
    "            # TODO: Add new tracks.\n",
    "            new_boxes_idx = set(range(len(boxes))) - set(seen_box_idx)\n",
    "            new_boxes = [boxes[i] for i in new_boxes_idx]\n",
    "            new_scores = [scores[i] for i in new_boxes_idx]\n",
    "            new_features = [pred_features[i] for i in new_boxes_idx]\n",
    "            self.add(new_boxes, new_scores, new_features)\n",
    "        else:\n",
    "            # No tracks exist.\n",
    "            self.add(boxes, scores, pred_features)\n",
    "\n"
   ]
  },
  {
   "cell_type": "raw",
   "metadata": {},
   "source": [
    "time_total = 0\n",
    "mot_accums = []\n",
    "results_seq = {}\n",
    "for seq in sequences:\n",
    "    tracker.reset()\n",
    "    now = time.time()\n",
    "\n",
    "    print(f\"Tracking: {seq}\")\n",
    "\n",
    "    data_loader = DataLoader(seq, batch_size=1, shuffle=False)\n",
    "\n",
    "    for frame in tqdm(data_loader):\n",
    "        tracker.step(frame)\n",
    "    results = tracker.get_results()\n",
    "    results_seq[str(seq)] = results\n",
    "\n",
    "    if seq.no_gt:\n",
    "        print(f\"No GT evaluation data available.\")\n",
    "    else:\n",
    "        mot_accums.append(get_mot_accum(results, seq))\n",
    "\n",
    "    time_total += time.time() - now\n",
    "\n",
    "    print(f\"Tracks found: {len(results)}\")\n",
    "    print(f\"Runtime for {seq}: {time.time() - now:.1f} s.\")\n",
    "\n",
    "    seq.write_results(results, os.path.join(output_dir))\n",
    "\n",
    "print(f\"Runtime for all sequences: {time_total:.1f} s.\")\n",
    "if mot_accums:\n",
    "    evaluate_mot_accums(mot_accums,\n",
    "                        [str(s) for s in sequences if not s.no_gt],\n",
    "                        generate_overall=True)"
   ]
  },
  {
   "cell_type": "code",
   "execution_count": null,
   "metadata": {},
   "outputs": [],
   "source": []
  },
  {
   "cell_type": "code",
   "execution_count": null,
   "metadata": {},
   "outputs": [],
   "source": []
  },
  {
   "cell_type": "markdown",
   "metadata": {
    "id": "IvB1hRhWtwaE"
   },
   "source": [
    "#### Run tracker \n"
   ]
  },
  {
   "cell_type": "code",
   "execution_count": null,
   "metadata": {
    "id": "12IWltp6n2xW"
   },
   "outputs": [],
   "source": [
    "# Old Tracker \n",
    "# tracker = BaseTrackerIoU(obj_detect) \n",
    "\n",
    "# New tracker:\n",
    "#tracker = HungarianIoUTracker(obj_detect)\n",
    "\n",
    "tracker = ReIDHungarianIoUTracker(obj_detect)"
   ]
  },
  {
   "cell_type": "code",
   "execution_count": null,
   "metadata": {
    "id": "bG3QwqUXtVu2"
   },
   "outputs": [],
   "source": [
    "time_total = 0\n",
    "mot_accums = []\n",
    "results_seq = {}\n",
    "for seq in sequences:\n",
    "    tracker.reset()\n",
    "    now = time.time()\n",
    "\n",
    "    print(f\"Tracking: {seq}\")\n",
    "\n",
    "    data_loader = DataLoader(seq, batch_size=1, shuffle=False)\n",
    "\n",
    "    for frame in tqdm(data_loader):\n",
    "        tracker.step(frame)\n",
    "    results = tracker.get_results()\n",
    "    results_seq[str(seq)] = results\n",
    "\n",
    "    if seq.no_gt:\n",
    "        print(f\"No GT evaluation data available.\")\n",
    "    else:\n",
    "        mot_accums.append(get_mot_accum(results, seq))\n",
    "\n",
    "    time_total += time.time() - now\n",
    "\n",
    "    print(f\"Tracks found: {len(results)}\")\n",
    "    print(f\"Runtime for {seq}: {time.time() - now:.1f} s.\")\n",
    "\n",
    "    #seq.write_results(results, os.path.join(output_dir))\n",
    "\n",
    "print(f\"Runtime for all sequences: {time_total:.1f} s.\")\n",
    "if mot_accums:\n",
    "    evaluate_mot_accums(mot_accums,\n",
    "                        [str(s) for s in sequences if not s.no_gt],\n",
    "                        generate_overall=True)"
   ]
  },
  {
   "cell_type": "markdown",
   "metadata": {},
   "source": [
    "## Baseline Tracker Results\n",
    "\n",
    "            IDF1   IDP   IDR   Rcll  Prcn  GT  MT  PT ML  FP   FN IDs   FM  MOTA  MOTP\n",
    "    MOT16-02 32.2% 49.8% 23.8% 30.8% 64.4%  62  5  22 35 3170 12858  52   93 13.5% 0.086\n",
    "    MOT16-05 47.7% 53.9% 42.8% 57.8% 72.7% 133 39  64 30 1502  2917  87  103 34.9% 0.144\n",
    "    MOT16-09 43.0% 48.8% 38.4% 51.9% 66.1%  26  7  14  5 1420  2559  39   66 24.5% 0.107\n",
    "    MOT16-11 49.0% 54.1% 44.8% 55.8% 67.5%  75 15  32 28 2542  4166  20   39 28.7% 0.080\n",
    "    OVERALL  41.0% 51.8% 33.9% 44.1% 67.3% 296 66 132 98 8634 22500 198  301 22.2% 0.101"
   ]
  },
  {
   "cell_type": "markdown",
   "metadata": {},
   "source": [
    "## Hungarian Tracker Results\n",
    "\n",
    "             IDF1    IDP  IDR  Rcll  Prcn   GT  MT  PT ML   FP    FN IDs   FM  MOTA  MOTP \n",
    "    MOT16-02 39.1% 55.5% 30.2% 52.3% 96.2%  62  11  38 13  383  8870 246  215 48.9% 0.096 \n",
    "    MOT16-05 55.1% 65.2% 47.7% 68.8% 94.2% 133  55  66 12  295  2158 199  155 61.7% 0.143  \n",
    "    MOT16-09 50.2% 62.0% 42.1% 66.4% 97.8%  26  13  12  1   80  1789  76   78 63.5% 0.083  \n",
    "    MOT16-11 60.4% 66.6% 55.3% 80.2% 96.6%  75  42  26  7  266  1868  99   86 76.3% 0.083  \n",
    "    OVERALL  49.0% 61.5% 40.6% 63.5% 96.2% 296 121 142 33 1024 14685 620  534 59.4% 0.099 "
   ]
  },
  {
   "cell_type": "markdown",
   "metadata": {
    "id": "X7KPPxqG_5xt"
   },
   "source": [
    "## Visualize tracking results"
   ]
  },
  {
   "cell_type": "code",
   "execution_count": null,
   "metadata": {
    "colab": {
     "base_uri": "https://localhost:8080/",
     "height": 1000
    },
    "id": "pq6tAiUBkBEk",
    "outputId": "b5e715c3-a578-40cd-ed87-9f91fc4b3248",
    "scrolled": true
   },
   "outputs": [],
   "source": [
    "plot_sequence(results_seq['MOT16-02'],\n",
    "              [s for s in sequences if str(s) == 'MOT16-02'][0],\n",
    "              first_n_frames=3)"
   ]
  },
  {
   "cell_type": "code",
   "execution_count": null,
   "metadata": {
    "id": "0nSs-bUZqerq"
   },
   "outputs": [],
   "source": []
  }
 ],
 "metadata": {
  "accelerator": "GPU",
  "colab": {
   "collapsed_sections": [],
   "machine_shape": "hm",
   "name": "Exercise_ReID.ipynb",
   "provenance": [],
   "toc_visible": true
  },
  "kernelspec": {
   "display_name": "Python [conda env:tracking]",
   "language": "python",
   "name": "conda-env-tracking-py"
  },
  "language_info": {
   "codemirror_mode": {
    "name": "ipython",
    "version": 3
   },
   "file_extension": ".py",
   "mimetype": "text/x-python",
   "name": "python",
   "nbconvert_exporter": "python",
   "pygments_lexer": "ipython3",
   "version": "3.10.4"
  }
 },
 "nbformat": 4,
 "nbformat_minor": 1
}
