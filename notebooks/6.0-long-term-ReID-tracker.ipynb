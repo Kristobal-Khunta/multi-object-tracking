{
 "cells": [
  {
   "cell_type": "markdown",
   "metadata": {
    "id": "xABx3A-soZMM"
   },
   "source": [
    "# Computer Vision III: Detection, Segmentation and Tracking (CV3DST)\n",
    "\n",
    "- develop an extension of the ReID-based tracker that will make it more robust to occlusions by allowing it to recover from missed detections. \n",
    "- Adapt the track management scheme of our ReIDTracker allow it to recover from missed detections.\n"
   ]
  },
  {
   "cell_type": "markdown",
   "metadata": {
    "id": "LFYSSMiwpxSq"
   },
   "source": [
    "#### Install and import Python libraries"
   ]
  },
  {
   "cell_type": "code",
   "execution_count": null,
   "metadata": {},
   "outputs": [],
   "source": [
    "import os\n",
    "import sys\n",
    "import matplotlib.pyplot as plt\n",
    "import numpy as np\n",
    "import time\n",
    "from tqdm.autonotebook import tqdm\n",
    "\n",
    "import torch\n",
    "import os.path as osp\n",
    "\n",
    "import motmetrics as mm\n",
    "\n",
    "mm.lap.default_solver = \"lap\"\n",
    "\n",
    "%load_ext autoreload\n",
    "%autoreload 2\n",
    "%matplotlib inline"
   ]
  },
  {
   "cell_type": "code",
   "execution_count": 2,
   "metadata": {},
   "outputs": [],
   "source": [
    "root_dir = \"..\"\n",
    "sys.path.append(os.path.join(root_dir, \"src\"))"
   ]
  },
  {
   "cell_type": "code",
   "execution_count": 3,
   "metadata": {},
   "outputs": [],
   "source": [
    "from mot.data.data_track import MOT16Sequences\n",
    "from mot.tracker.advanced import LongTermReIDHungarianTracker, ReIDHungarianTracker\n",
    "from mot.eval import run_tracker"
   ]
  },
  {
   "cell_type": "markdown",
   "metadata": {
    "id": "-Qubi7uE6EPd"
   },
   "source": [
    "## Speed-Ups\n",
    "In order to speed up training and inference runtimes, we will be working with pre-computed detections and ReID embeddings. We ran the object detector and applied to all frames. We also computed reid embeddings for all boxes in every frame of the dataset so that they don't need to be computed every time you run your tracker. This yields over 10x speed improvements"
   ]
  },
  {
   "cell_type": "code",
   "execution_count": 4,
   "metadata": {},
   "outputs": [],
   "source": [
    "train_db = torch.load(\n",
    "    osp.join(root_dir, \"data/preprocessed_data/preprocessed_data_train_2.pth\")\n",
    ")"
   ]
  },
  {
   "cell_type": "markdown",
   "metadata": {
    "id": "bqQQId537ot2"
   },
   "source": [
    "## ReIDHungarianTracker\n",
    "\n",
    "our baseline is ReIDTracker.\n",
    "\n",
    "This tracker works by performing frame-to-frame bipartite matching between newly detected boxes and past tracks based on ReID distance. Whenever a past track cannot be matched, its killed. And whenever, a newly detected box cannot be match, it starts a new trajectory.\n",
    "\n",
    "We have modified the ``compute_distance`` function in ``data_association`` to include a thresshold on ReID distance (if ReID distance >0.1, matching is not possible). This is important to prevent our tracker from reusing tracks for very dissimilar objects.\n",
    "\n",
    "Results:\n",
    "```\n",
    "          IDF1   IDP   IDR  Rcll  Prcn  GT  MT  PT ML   FP    FN IDs   FM  MOTA  MOTP\n",
    "MOT16-02 40.5% 57.5% 31.3% 52.2% 96.1%  62  12  38 12  390  8873 203  210 49.1% 0.090\n",
    "MOT16-05 54.4% 64.4% 47.1% 68.8% 94.0% 133  54  67 12  305  2156 330  149 59.7% 0.142\n",
    "MOT16-09 49.9% 61.7% 41.9% 66.3% 97.7%  26  13  12  1   82  1793  77   76 63.3% 0.082\n",
    "MOT16-11 61.1% 67.4% 55.9% 80.2% 96.6%  75  44  24  7  266  1871 176   91 75.5% 0.083\n",
    "OVERALL  49.6% 62.3% 41.2% 63.5% 96.1% 296 123 141 32 1043 14693 786  526 59.0% 0.097\n",
    "```\n"
   ]
  },
  {
   "cell_type": "code",
   "execution_count": 5,
   "metadata": {},
   "outputs": [],
   "source": [
    "val_sequences = MOT16Sequences(\n",
    "    \"MOT16-reid\", root_dir=osp.join(root_dir, \"data/MOT16\"), vis_threshold=0.0\n",
    ")"
   ]
  },
  {
   "cell_type": "code",
   "execution_count": 11,
   "metadata": {},
   "outputs": [
    {
     "name": "stdout",
     "output_type": "stream",
     "text": [
      "Tracking: MOT16-02\n",
      "Tracks found: 367\n",
      "Runtime for MOT16-02: 1.5 s.\n",
      "Tracking: MOT16-05\n",
      "Tracks found: 464\n",
      "Runtime for MOT16-05: 1.3 s.\n",
      "Tracking: MOT16-09\n",
      "Tracks found: 98\n",
      "Runtime for MOT16-09: 0.8 s.\n",
      "Tracking: MOT16-11\n",
      "Tracks found: 292\n",
      "Runtime for MOT16-11: 1.3 s.\n",
      "Runtime for all sequences: 4.9 s.\n",
      "          IDF1   IDP   IDR  Rcll  Prcn  GT  MT  PT ML   FP    FN IDs   FM  MOTA  MOTP IDt IDa IDm\n",
      "MOT16-02 40.5% 57.5% 31.3% 52.2% 96.1%  62  12  38 12  390  8873 203  210 49.1% 0.090  15 191   4\n",
      "MOT16-05 54.4% 64.4% 47.1% 68.8% 94.0% 133  54  67 12  305  2156 330  149 59.7% 0.142  39 302  11\n",
      "MOT16-09 49.9% 61.7% 41.9% 66.3% 97.7%  26  13  12  1   82  1793  77   76 63.3% 0.082   9  71   3\n",
      "MOT16-11 61.1% 67.4% 55.9% 80.2% 96.6%  75  44  24  7  266  1871 176   91 75.5% 0.083  16 162   3\n",
      "OVERALL  49.6% 62.3% 41.2% 63.5% 96.1% 296 123 141 32 1043 14693 786  526 59.0% 0.097  79 726  21\n"
     ]
    }
   ],
   "source": [
    "tracker = ReIDHungarianTracker(obj_detect=None, reid_model=None)\n",
    "result_mot_df, results_seq = run_tracker(val_sequences, database=train_db, tracker=tracker, output_dir=None)\n"
   ]
  },
  {
   "cell_type": "markdown",
   "metadata": {
    "id": "1NgkrWTy7ot4"
   },
   "source": [
    "## Long-Term ReID Tracker\n"
   ]
  },
  {
   "cell_type": "markdown",
   "metadata": {
    "id": "9R8udP5I7ot4"
   },
   "source": [
    "The tracker above has an obvious limitation: whenever a track cannot be matched with the detections of a given frame the track will be killed. This means that if our detector misses an object in a single frame (due to e.g. occlusion), we will not be able to recover that track, and we will start a new one. \n",
    "\n",
    "To fix this issue, we would like to allow our tracker to maintain tracks that are not matched during data association. We will refer to these tracks as **inactive**. During data association, we will try to match the detected boxes for the current frame to both tracks that are active (i.e. tracks that we were able to match in the previous frame) as well as those that are inactive. Therefore, if a detector misses an object in a frame and the object reappears after a few frames, we will still be able to match it to its corresponding track, instead of creating a new one.\n",
    "\n",
    "In order to adapt our tracker to have this behavior, we will use the `inactive` attribute from the `track` class (see `tracker/tracker.py`. This attribute will be assigned an integer indicating for how many frames a track has remained unmatched. Whenever we are able to match the track `t`, we will set `t.inactive=0` and, naturally, when tracks are initialized, the class constructor sets `inactive=0`. \n",
    "\n",
    "Your job is to maintain the `inactive` attribute of all tracks being kept by tracker so that its value represents the number of frames for which the track has been unmatched. Additionally, we introduce a `patience` parameter. Whenever a track has been inactive for more than `inactive` frames. it will need to be killed.\n",
    "\n",
    "Results should approximately be around:\n",
    "\n",
    "```\n",
    "          IDF1   IDP   IDR  Rcll  Prcn  GT  MT  PT ML   FP    FN IDs   FM  MOTA  MOTP\n",
    "MOT16-02 45.9% 65.1% 35.4% 52.2% 96.1%  62  12  37 13  390  8873 130  210 49.4% 0.090\n",
    "MOT16-05 63.4% 75.0% 54.9% 68.8% 94.0% 133  54  67 12  305  2156 283  149 60.3% 0.142\n",
    "MOT16-09 52.5% 64.9% 44.1% 66.3% 97.7%  26  13  12  1   82  1793  49   76 63.9% 0.083\n",
    "MOT16-11 68.3% 75.3% 62.5% 80.2% 96.6%  75  44  24  7  266  1871 136   90 75.9% 0.083\n",
    "OVERALL  55.7% 70.0% 46.2% 63.5% 96.1% 296 123 140 33 1043 14693 598  525 59.4% 0.097\n",
    "```\n"
   ]
  },
  {
   "cell_type": "code",
   "execution_count": 12,
   "metadata": {},
   "outputs": [
    {
     "name": "stdout",
     "output_type": "stream",
     "text": [
      "Tracking: MOT16-02\n",
      "Tracks found: 207\n",
      "Runtime for MOT16-02: 4.4 s.\n",
      "Tracking: MOT16-05\n",
      "Tracks found: 355\n",
      "Runtime for MOT16-05: 1.3 s.\n",
      "Tracking: MOT16-09\n",
      "Tracks found: 65\n",
      "Runtime for MOT16-09: 0.8 s.\n",
      "Tracking: MOT16-11\n",
      "Tracks found: 217\n",
      "Runtime for MOT16-11: 1.8 s.\n",
      "Runtime for all sequences: 8.3 s.\n",
      "          IDF1   IDP   IDR  Rcll  Prcn  GT  MT  PT ML   FP    FN IDs   FM  MOTA  MOTP IDt IDa IDm\n",
      "MOT16-02 45.9% 65.1% 35.4% 52.2% 96.1%  62  12  37 13  390  8873 130  210 49.4% 0.090  18 113   5\n",
      "MOT16-05 63.4% 75.0% 54.9% 68.8% 94.0% 133  54  67 12  305  2156 283  149 60.3% 0.142  73 216  13\n",
      "MOT16-09 52.5% 64.9% 44.1% 66.3% 97.7%  26  13  12  1   82  1793  49   76 63.9% 0.083  12  40   4\n",
      "MOT16-11 68.3% 75.3% 62.5% 80.2% 96.6%  75  44  24  7  266  1871 136   90 75.9% 0.083  23 115   3\n",
      "OVERALL  55.7% 70.0% 46.2% 63.5% 96.1% 296 123 140 33 1043 14693 598  525 59.4% 0.097 126 484  25\n"
     ]
    }
   ],
   "source": [
    "tracker = LongTermReIDHungarianTracker(patience=20, obj_detect=None, reid_model=None)\n",
    "result_mot_df, results_seq = run_tracker(val_sequences, database=train_db, tracker=tracker, output_dir=None)"
   ]
  },
  {
   "cell_type": "code",
   "execution_count": null,
   "metadata": {},
   "outputs": [],
   "source": []
  }
 ],
 "metadata": {
  "kernelspec": {
   "display_name": "Python [conda env:tracking]",
   "language": "python",
   "name": "conda-env-tracking-py"
  },
  "language_info": {
   "codemirror_mode": {
    "name": "ipython",
    "version": 3
   },
   "file_extension": ".py",
   "mimetype": "text/x-python",
   "name": "python",
   "nbconvert_exporter": "python",
   "pygments_lexer": "ipython3",
   "version": "3.10.4"
  },
  "vscode": {
   "interpreter": {
    "hash": "d0cafbbefa557af0eb434e43229a0bc3a94a7b3610e45211e67837890fcbccc6"
   }
  }
 },
 "nbformat": 4,
 "nbformat_minor": 4
}
