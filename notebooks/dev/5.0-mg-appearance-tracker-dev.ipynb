{
 "cells": [
  {
   "cell_type": "markdown",
   "metadata": {
    "id": "LFYSSMiwpxSq"
   },
   "source": [
    "#### Install and import Python libraries"
   ]
  },
  {
   "cell_type": "code",
   "execution_count": null,
   "metadata": {},
   "outputs": [],
   "source": [
    "%load_ext autoreload\n",
    "%autoreload 2\n"
   ]
  },
  {
   "cell_type": "code",
   "execution_count": null,
   "metadata": {
    "colab": {
     "base_uri": "https://localhost:8080/"
    },
    "executionInfo": {
     "elapsed": 15351,
     "status": "ok",
     "timestamp": 1658910410246,
     "user": {
      "displayName": "Максим Голдин",
      "userId": "08631407013133915158"
     },
     "user_tz": -180
    },
    "id": "KRMsynpFU6gh",
    "outputId": "cb3ecbe0-7e78-49d3-9aae-03fa8028006a"
   },
   "outputs": [],
   "source": [
    "import os\n",
    "import sys\n",
    "\n",
    "root_dir = \"..\"\n",
    "sys.path.append(os.path.join(root_dir, \"src\"))\n"
   ]
  },
  {
   "cell_type": "code",
   "execution_count": null,
   "metadata": {
    "colab": {
     "base_uri": "https://localhost:8080/"
    },
    "executionInfo": {
     "elapsed": 5345,
     "status": "ok",
     "timestamp": 1658910415580,
     "user": {
      "displayName": "Максим Голдин",
      "userId": "08631407013133915158"
     },
     "user_tz": -180
    },
    "id": "RGOohkAgo-hW",
    "outputId": "0a2d2db4-fe9d-4ec4-c430-822c006681ff"
   },
   "outputs": [],
   "source": [
    "import matplotlib.pyplot as plt\n",
    "import numpy as np\n",
    "import time\n",
    "from tqdm.autonotebook import tqdm\n",
    "\n",
    "import torch\n",
    "from torch.utils.data import DataLoader\n",
    "\n",
    "from mot.data.data_track import MOT16Sequences\n",
    "from mot.data.data_obj_detect import MOT16ObjDetect\n",
    "from mot.models.object_detector import FRCNN_FPN\n",
    "from mot.tracker.base import Tracker, BaseReIDTracker\n",
    "from mot.eval import get_mot_accum,evaluate_obj_detect, evaluate_mot_accums\n",
    "from mot.visualize import plot_sequence\n",
    "from mot.utils import ltrb_to_ltwh\n",
    "\n",
    "from scipy.optimize import linear_sum_assignment as linear_assignment\n",
    "from market.models import build_model\n",
    "from mot.tracker.base import Tracker\n",
    "\n",
    "import motmetrics as mm\n",
    "mm.lap.default_solver = 'lap'\n",
    "%matplotlib inline\n"
   ]
  },
  {
   "cell_type": "markdown",
   "metadata": {
    "id": "-KEDZJVwQ6DX"
   },
   "source": [
    "## Example sequences"
   ]
  },
  {
   "cell_type": "code",
   "execution_count": null,
   "metadata": {
    "colab": {
     "base_uri": "https://localhost:8080/",
     "height": 507
    },
    "executionInfo": {
     "elapsed": 15257,
     "status": "ok",
     "timestamp": 1658910456088,
     "user": {
      "displayName": "Максим Голдин",
      "userId": "08631407013133915158"
     },
     "user_tz": -180
    },
    "id": "7rDoJXYBr0FL",
    "outputId": "9f948e25-5589-4adc-c0c4-e187ff91226f"
   },
   "outputs": [],
   "source": [
    "seq_name = \"MOT16-02\"\n",
    "data_dir = os.path.join(root_dir, \"data/MOT16\")\n",
    "sequences = MOT16Sequences(seq_name, data_dir, load_seg=True)  # Get a coffee.\n",
    "\n",
    "for seq in sequences:\n",
    "    for i, frame in enumerate(seq):\n",
    "        img = frame[\"img\"]\n",
    "\n",
    "        dpi = 96\n",
    "        fig, ax = plt.subplots(1, dpi=dpi)\n",
    "\n",
    "        img = img.mul(255).permute(1, 2, 0).byte().numpy()\n",
    "        width, height, _ = img.shape\n",
    "\n",
    "        ax.imshow(img, cmap=\"gray\")\n",
    "        fig.set_size_inches(width / dpi, height / dpi)\n",
    "\n",
    "        if \"gt\" in frame:\n",
    "            gt = frame[\"gt\"]\n",
    "            for gt_id, box in gt.items():\n",
    "                rect = plt.Rectangle(\n",
    "                    (box[0], box[1]),\n",
    "                    box[2] - box[0],\n",
    "                    box[3] - box[1],\n",
    "                    fill=False,\n",
    "                    linewidth=1.0,\n",
    "                )\n",
    "                ax.add_patch(rect)\n",
    "\n",
    "        plt.axis(\"off\")\n",
    "        plt.show()\n",
    "        break\n"
   ]
  },
  {
   "cell_type": "markdown",
   "metadata": {
    "id": "0cvaNe42gIll"
   },
   "source": [
    "# Object detector\n",
    "\n",
    "The object detector is a [Faster R-CNN](https://arxiv.org/abs/1506.01497) with a Resnet50 feature extractor. We trained the native PyTorch implementation of Faster-RCNN. For more information check out the corresponding PyTorch [webpage](https://pytorch.org/tutorials/intermediate/torchvision_tutorial.html)."
   ]
  },
  {
   "cell_type": "markdown",
   "metadata": {
    "id": "-Qubi7uE6EPd"
   },
   "source": [
    "\n",
    "## Configuration"
   ]
  },
  {
   "cell_type": "code",
   "execution_count": null,
   "metadata": {
    "executionInfo": {
     "elapsed": 328,
     "status": "ok",
     "timestamp": 1658910605340,
     "user": {
      "displayName": "Максим Голдин",
      "userId": "08631407013133915158"
     },
     "user_tz": -180
    },
    "id": "z2g7oHASTa8v"
   },
   "outputs": [],
   "source": [
    "obj_detect_model_file = os.path.join(root_dir, \"models/faster_rcnn_fpn.model\")\n",
    "obj_detect_nms_thresh = 0.3\n"
   ]
  },
  {
   "cell_type": "code",
   "execution_count": null,
   "metadata": {
    "colab": {
     "base_uri": "https://localhost:8080/"
    },
    "executionInfo": {
     "elapsed": 6958,
     "status": "ok",
     "timestamp": 1658910615060,
     "user": {
      "displayName": "Максим Голдин",
      "userId": "08631407013133915158"
     },
     "user_tz": -180
    },
    "id": "JIXdzYMnMhiW",
    "outputId": "1779756c-9c2b-43f8-c2ef-8d2fd6f2e195"
   },
   "outputs": [],
   "source": [
    "device = torch.device(\"cuda\") if torch.cuda.is_available() else torch.device(\"cpu\")\n",
    "\n",
    "# object detector\n",
    "obj_detect = FRCNN_FPN(num_classes=2, nms_thresh=obj_detect_nms_thresh)\n",
    "obj_detect_state_dict = torch.load(\n",
    "    obj_detect_model_file, map_location=lambda storage, loc: storage\n",
    ")\n",
    "obj_detect.load_state_dict(obj_detect_state_dict)\n",
    "obj_detect.eval()\n",
    "obj_detect = obj_detect.to(device)\n"
   ]
  },
  {
   "cell_type": "markdown",
   "metadata": {
    "id": "WGszq40utUfA"
   },
   "source": [
    "# Multi-object tracking\n",
    "\n",
    "## Configuration"
   ]
  },
  {
   "cell_type": "code",
   "execution_count": null,
   "metadata": {
    "executionInfo": {
     "elapsed": 14,
     "status": "ok",
     "timestamp": 1658910682779,
     "user": {
      "displayName": "Максим Голдин",
      "userId": "08631407013133915158"
     },
     "user_tz": -180
    },
    "id": "eQTAqnFptwul"
   },
   "outputs": [],
   "source": [
    "seed = 12345\n",
    "seq_name = \"MOT16-reid\"  # We recommend to use this subset.\n",
    "data_dir = os.path.join(root_dir, \"data/MOT16\")\n",
    "output_dir = os.path.join(root_dir, \"output\")\n"
   ]
  },
  {
   "cell_type": "markdown",
   "metadata": {
    "id": "N5KgKxhmMm1r"
   },
   "source": [
    "## Setup"
   ]
  },
  {
   "cell_type": "code",
   "execution_count": null,
   "metadata": {
    "id": "jV2c5yengHyC"
   },
   "outputs": [],
   "source": [
    "torch.manual_seed(seed)\n",
    "torch.cuda.manual_seed(seed)\n",
    "np.random.seed(seed)\n",
    "torch.backends.cudnn.deterministic = True\n",
    "\n",
    "# dataset\n",
    "sequences = MOT16Sequences(seq_name, data_dir)\n"
   ]
  },
  {
   "cell_type": "markdown",
   "metadata": {},
   "source": [
    "# Reid + Hungarian algo+ cosine dist\n",
    "\n",
    "In this part, we combine the ReID model with the tracker to compute appearance-based matching.\n",
    "\n",
    "Since we're using a very simple ReID model, tracking only based on apperance is very difficult.\n",
    "For all pairs of tracks and detections, the distance is set to `_UNMATCHED_COST`, when the IoU value is below 0.5. For all other cases, the costs are based on the cosine distance. \n",
    "The cosine distance should be between -1 and 1."
   ]
  },
  {
   "cell_type": "markdown",
   "metadata": {},
   "source": [
    "## reid model"
   ]
  },
  {
   "cell_type": "code",
   "execution_count": null,
   "metadata": {},
   "outputs": [],
   "source": [
    "model_path = root_dir + \"/models/resnet34_reid_market.model\"\n",
    "\n",
    "reid_model = build_model(\"resnet34\", num_classes=751, loss=\"triplet\", pretrained=True)\n",
    "reid_market_state_dict = torch.load(\n",
    "    model_path, map_location=lambda storage, loc: storage\n",
    ")\n",
    "reid_model.load_state_dict(reid_market_state_dict)\n"
   ]
  },
  {
   "cell_type": "code",
   "execution_count": null,
   "metadata": {},
   "outputs": [],
   "source": [
    "model_path = root_dir + \"/models/resnet50_reid.pth\"\n",
    "\n",
    "reid_model = build_model(\"resnet34\", 751, loss=\"softmax\", pretrained=True)\n",
    "reid_ckpt = torch.load(model_path)\n",
    "reid_model.load_state_dict(reid_ckpt)\n"
   ]
  },
  {
   "cell_type": "code",
   "execution_count": null,
   "metadata": {},
   "outputs": [],
   "source": [
    "reid_model = reid_model.cuda()\n"
   ]
  },
  {
   "cell_type": "code",
   "execution_count": null,
   "metadata": {},
   "outputs": [],
   "source": [
    "def cosine_distance(input1, input2):\n",
    "    \"\"\"Computes cosine distance.\n",
    "    Args:\n",
    "        input1 (torch.Tensor): 2-D feature matrix (m x feat).\n",
    "        input2 (torch.Tensor): 2-D feature matrix (n x feat).\n",
    "    Returns:\n",
    "        torch.Tensor: distance matrix (m x n).\n",
    "    \"\"\"\n",
    "\n",
    "    # Given that cos_sim(u, v) = dot(u, v) / (norm(u) * norm(v))\n",
    "    #                          = dot(u / norm(u), v / norm(v))\n",
    "    # We fist normalize the rows, before computing their dot products via transposition:\n",
    "    norm1 = input1.norm(dim=1)[:, None]\n",
    "    norm2 = input2.norm(dim=1)[:, None]\n",
    "    input1_norm = input1 / norm1\n",
    "    input2_norm = input2 / norm2\n",
    "    cosine_similarity = torch.mm(input1_norm, input2_norm.t())\n",
    "    distmat = 1 - cosine_similarity\n",
    "    return distmat\n"
   ]
  },
  {
   "cell_type": "code",
   "execution_count": null,
   "metadata": {},
   "outputs": [],
   "source": [
    "_UNMATCHED_COST = 255.0\n",
    "\n",
    "\n",
    "class ReIDHungarianTracker(BaseReIDTracker):\n",
    "    def data_association(self, boxes, scores, frame):\n",
    "        crops = self.get_crop_from_boxes(boxes, frame)\n",
    "        pred_features = self.compute_reid_features(reid_model, crops).cpu().clone()\n",
    "\n",
    "        if self.tracks:\n",
    "            track_ids = [t.id for t in self.tracks]\n",
    "            track_boxes = torch.stack([t.box for t in self.tracks], axis=0)\n",
    "            track_features = torch.stack([t.get_feature() for t in self.tracks], axis=0)\n",
    "\n",
    "            # This will use your similarity measure. Please use cosine_distance!\n",
    "            distance = self.compute_distance_matrix(\n",
    "                track_features,\n",
    "                pred_features,\n",
    "                track_boxes,\n",
    "                boxes,\n",
    "                metric_fn=cosine_distance,\n",
    "            )\n",
    "\n",
    "            # Perform Hungarian matching.\n",
    "            row_idx, col_idx = linear_assignment(distance)\n",
    "\n",
    "            # row_idx and col_idx are indices into track_boxes and boxes.\n",
    "            # row_idx[i] and col_idx[i] define a match.\n",
    "            # distance[row_idx[i], col_idx[i]] define the cost for that matching.\n",
    "\n",
    "            remove_track_ids = []\n",
    "            seen_track_ids = []\n",
    "            seen_box_idx = []\n",
    "            # Update existing tracks and remove unmatched tracks.\n",
    "\n",
    "            for track_idx, box_idx in zip(row_idx, col_idx):\n",
    "                costs = distance[track_idx, box_idx]\n",
    "                internal_track_id = track_ids[track_idx]\n",
    "                seen_track_ids.append(internal_track_id)\n",
    "                # If the costs are equal to _UNMATCHED_COST, it's not a match.\n",
    "                if costs == _UNMATCHED_COST:\n",
    "                    remove_track_ids.append(internal_track_id)\n",
    "                else:\n",
    "                    self.tracks[track_idx].box = boxes[box_idx]\n",
    "                    self.tracks[track_idx].add_feature(pred_features[box_idx])\n",
    "                    seen_box_idx.append(box_idx)\n",
    "\n",
    "            unseen_track_ids = set(track_ids) - set(seen_track_ids)\n",
    "            remove_track_ids.extend(list(unseen_track_ids))\n",
    "            self.tracks = [t for t in self.tracks if t.id not in remove_track_ids]\n",
    "\n",
    "            # update the feature of a track by using add_feature:\n",
    "            # self.tracks[my_track_id].add_feature(pred_features[my_feat_index])\n",
    "            # use the mean feature from the last 10 frames for ReID.\n",
    "\n",
    "            new_boxes_idx = set(range(len(boxes))) - set(seen_box_idx)\n",
    "            new_boxes = [boxes[i] for i in new_boxes_idx]\n",
    "            new_scores = [scores[i] for i in new_boxes_idx]\n",
    "            new_features = [pred_features[i] for i in new_boxes_idx]\n",
    "            self.add(new_boxes, new_scores, new_features)\n",
    "        else:\n",
    "            # No tracks exist.\n",
    "            self.add(boxes, scores, pred_features)\n"
   ]
  },
  {
   "cell_type": "code",
   "execution_count": null,
   "metadata": {},
   "outputs": [],
   "source": [
    "print(ReIDHungarianTracker.__mro__)"
   ]
  },
  {
   "cell_type": "markdown",
   "metadata": {
    "id": "IvB1hRhWtwaE"
   },
   "source": [
    "### Run tracker \n"
   ]
  },
  {
   "cell_type": "code",
   "execution_count": null,
   "metadata": {
    "id": "12IWltp6n2xW"
   },
   "outputs": [],
   "source": [
    "# Old Tracker\n",
    "# tracker = BaseTrackerIoU(obj_detect)\n",
    "# tracker = HungarianIoUTracker(obj_de|tect)\n",
    "\n",
    "tracker = ReIDHungarianTracker(obj_detect)\n"
   ]
  },
  {
   "cell_type": "code",
   "execution_count": null,
   "metadata": {},
   "outputs": [],
   "source": []
  },
  {
   "cell_type": "code",
   "execution_count": null,
   "metadata": {
    "id": "bG3QwqUXtVu2",
    "scrolled": true
   },
   "outputs": [],
   "source": [
    "time_total = 0\n",
    "mot_accums = []\n",
    "results_seq = {}\n",
    "for seq in sequences:\n",
    "    tracker.reset()\n",
    "    now = time.time()\n",
    "\n",
    "    print(f\"Tracking: {seq}\")\n",
    "\n",
    "    data_loader = DataLoader(seq, batch_size=1, shuffle=False)\n",
    "\n",
    "    for frame in tqdm(data_loader):\n",
    "        tracker.step(frame)\n",
    "    results = tracker.get_results()\n",
    "    results_seq[str(seq)] = results\n",
    "\n",
    "    if seq.no_gt:\n",
    "        print(f\"No GT evaluation data available.\")\n",
    "    else:\n",
    "        mot_accums.append(get_mot_accum(results, seq))\n",
    "\n",
    "    time_total += time.time() - now\n",
    "\n",
    "    print(f\"Tracks found: {len(results)}\")\n",
    "    print(f\"Runtime for {seq}: {time.time() - now:.1f} s.\")\n",
    "\n",
    "    # seq.write_results(results, os.path.join(output_dir))\n",
    "\n",
    "print(f\"Runtime for all sequences: {time_total:.1f} s.\")\n",
    "if mot_accums:\n",
    "    evaluate_mot_accums(\n",
    "        mot_accums, [str(s) for s in sequences if not s.no_gt], generate_overall=True\n",
    "    )\n"
   ]
  },
  {
   "cell_type": "code",
   "execution_count": null,
   "metadata": {},
   "outputs": [],
   "source": []
  },
  {
   "cell_type": "markdown",
   "metadata": {},
   "source": [
    "## Baseline Tracker Results\n",
    "\n",
    "            IDF1   IDP   IDR   Rcll  Prcn  GT  MT  PT ML  FP   FN IDs   FM  MOTA  MOTP\n",
    "    MOT16-02 32.2% 49.8% 23.8% 30.8% 64.4%  62  5  22 35 3170 12858  52   93 13.5% 0.086\n",
    "    MOT16-05 47.7% 53.9% 42.8% 57.8% 72.7% 133 39  64 30 1502  2917  87  103 34.9% 0.144\n",
    "    MOT16-09 43.0% 48.8% 38.4% 51.9% 66.1%  26  7  14  5 1420  2559  39   66 24.5% 0.107\n",
    "    MOT16-11 49.0% 54.1% 44.8% 55.8% 67.5%  75 15  32 28 2542  4166  20   39 28.7% 0.080\n",
    "    OVERALL  41.0% 51.8% 33.9% 44.1% 67.3% 296 66 132 98 8634 22500 198  301 22.2% 0.101"
   ]
  },
  {
   "cell_type": "markdown",
   "metadata": {},
   "source": [
    "## Hungarian Tracker Results\n",
    "\n",
    "             IDF1    IDP  IDR  Rcll  Prcn   GT  MT  PT ML   FP    FN IDs   FM  MOTA  MOTP \n",
    "    MOT16-02 39.1% 55.5% 30.2% 52.3% 96.2%  62  11  38 13  383  8870 246  215 48.9% 0.096 \n",
    "    MOT16-05 55.1% 65.2% 47.7% 68.8% 94.2% 133  55  66 12  295  2158 199  155 61.7% 0.143  \n",
    "    MOT16-09 50.2% 62.0% 42.1% 66.4% 97.8%  26  13  12  1   80  1789  76   78 63.5% 0.083  \n",
    "    MOT16-11 60.4% 66.6% 55.3% 80.2% 96.6%  75  42  26  7  266  1868  99   86 76.3% 0.083  \n",
    "    OVERALL  49.0% 61.5% 40.6% 63.5% 96.2% 296 121 142 33 1024 14685 620  534 59.4% 0.099 "
   ]
  },
  {
   "cell_type": "markdown",
   "metadata": {},
   "source": [
    "# ReidHungarianIoU Tracker results\n",
    "\n",
    "              IDF1   IDP   IDR  Rcll  Prcn  GT  MT  PT ML   FP    FN IDs   FM  MOTA  MOTP IDt IDa IDm\n",
    "    MOT16-02 41.0% 58.2% 31.6% 52.3% 96.2%  62  11  38 13  383  8870 334  221 48.4% 0.095 173 154  10\n",
    "    MOT16-05 55.8% 66.1% 48.3% 68.8% 94.2% 133  56  65 12  295  2158 218  150 61.4% 0.142  96 144  25\n",
    "    MOT16-09 52.4% 64.7% 44.0% 66.4% 97.8%  26  12  13  1   80  1789  80   79 63.4% 0.083  27  58   5\n",
    "    MOT16-11 62.2% 68.6% 56.9% 80.2% 96.6%  75  42  26  7  266  1868 112   86 76.2% 0.083  41  77  11\n",
    "    OVERALL  50.6% 63.7% 42.1% 63.5% 96.2% 296 121 142 33 1024 14685 744  536 59.1% 0.099 337 433  51"
   ]
  },
  {
   "cell_type": "markdown",
   "metadata": {
    "id": "X7KPPxqG_5xt"
   },
   "source": [
    "## Visualize tracking results"
   ]
  },
  {
   "cell_type": "code",
   "execution_count": null,
   "metadata": {
    "colab": {
     "base_uri": "https://localhost:8080/",
     "height": 1000
    },
    "id": "pq6tAiUBkBEk",
    "outputId": "b5e715c3-a578-40cd-ed87-9f91fc4b3248",
    "scrolled": true
   },
   "outputs": [],
   "source": [
    "plot_sequence(\n",
    "    results_seq[\"MOT16-02\"],\n",
    "    [s for s in sequences if str(s) == \"MOT16-02\"][0],\n",
    "    first_n_frames=3,\n",
    ")\n"
   ]
  },
  {
   "cell_type": "code",
   "execution_count": null,
   "metadata": {
    "id": "0nSs-bUZqerq"
   },
   "outputs": [],
   "source": []
  }
 ],
 "metadata": {
  "accelerator": "GPU",
  "colab": {
   "collapsed_sections": [],
   "machine_shape": "hm",
   "name": "Exercise_ReID.ipynb",
   "provenance": [],
   "toc_visible": true
  },
  "kernelspec": {
   "display_name": "tracking",
   "language": "python",
   "name": "tracking"
  },
  "language_info": {
   "codemirror_mode": {
    "name": "ipython",
    "version": 3
   },
   "file_extension": ".py",
   "mimetype": "text/x-python",
   "name": "python",
   "nbconvert_exporter": "python",
   "pygments_lexer": "ipython3",
   "version": "3.10.4 (main, Mar 31 2022, 08:41:55) [GCC 7.5.0]"
  }
 },
 "nbformat": 4,
 "nbformat_minor": 4
}
