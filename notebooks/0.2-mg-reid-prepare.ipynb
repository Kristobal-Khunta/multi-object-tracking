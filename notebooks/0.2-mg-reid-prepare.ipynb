{
 "cells": [
  {
   "cell_type": "markdown",
   "metadata": {
    "id": "xABx3A-soZMM"
   },
   "source": [
    "#  CV3DST Find best functions"
   ]
  },
  {
   "cell_type": "markdown",
   "metadata": {
    "id": "LFYSSMiwpxSq"
   },
   "source": [
    "#### Install and import Python libraries"
   ]
  },
  {
   "cell_type": "code",
   "execution_count": 55,
   "metadata": {},
   "outputs": [],
   "source": [
    "reid_root_dir = \"..\"\n",
    "root_dir = '..'\n",
    "#sys.path.append(os.path.join(root_dir, 'src'))"
   ]
  },
  {
   "cell_type": "code",
   "execution_count": 56,
   "metadata": {
    "colab": {
     "base_uri": "https://localhost:8080/"
    },
    "executionInfo": {
     "elapsed": 15351,
     "status": "ok",
     "timestamp": 1658910410246,
     "user": {
      "displayName": "Максим Голдин",
      "userId": "08631407013133915158"
     },
     "user_tz": -180
    },
    "id": "KRMsynpFU6gh",
    "outputId": "cb3ecbe0-7e78-49d3-9aae-03fa8028006a"
   },
   "outputs": [
    {
     "name": "stdout",
     "output_type": "stream",
     "text": [
      "The autoreload extension is already loaded. To reload it, use:\n",
      "  %reload_ext autoreload\n"
     ]
    }
   ],
   "source": [
    "%load_ext autoreload\n",
    "%autoreload 2\n",
    "%matplotlib inline\n",
    "\n",
    "import os\n",
    "import sys\n",
    "sys.path.append(os.path.join(reid_root_dir, 'src'))\n"
   ]
  },
  {
   "cell_type": "code",
   "execution_count": 57,
   "metadata": {
    "colab": {
     "base_uri": "https://localhost:8080/"
    },
    "executionInfo": {
     "elapsed": 5345,
     "status": "ok",
     "timestamp": 1658910415580,
     "user": {
      "displayName": "Максим Голдин",
      "userId": "08631407013133915158"
     },
     "user_tz": -180
    },
    "id": "RGOohkAgo-hW",
    "outputId": "0a2d2db4-fe9d-4ec4-c430-822c006681ff"
   },
   "outputs": [],
   "source": [
    "import matplotlib.pyplot as plt\n",
    "import numpy as np\n",
    "import time\n",
    "from tqdm.autonotebook import tqdm\n",
    "\n",
    "import torch\n",
    "from torch.utils.data import DataLoader\n",
    "\n",
    "from tracker.data_track import MOT16Sequences\n",
    "from tracker.data_obj_detect import MOT16ObjDetect\n",
    "from tracker.object_detector import FRCNN_FPN\n",
    "from tracker.tracker import Tracker, ReIDTracker\n",
    "from tracker.utils import (plot_sequence, evaluate_mot_accums, get_mot_accum,\n",
    "                           evaluate_obj_detect, obj_detect_transforms)\n",
    "# Load helper code\n",
    "from market.datamanager import ImageDataManager\n",
    "from market.models import build_model\n",
    "from market import utils\n",
    "from market import metrics\n",
    "\n",
    "import torch\n",
    "from torch.nn import functional as F\n",
    "from scipy.optimize import linear_sum_assignment as linear_assignment\n",
    "\n",
    "import motmetrics as mm\n",
    "mm.lap.default_solver = 'lap'"
   ]
  },
  {
   "cell_type": "code",
   "execution_count": 58,
   "metadata": {},
   "outputs": [],
   "source": [
    "os.environ[\"CUDA_DEVICE_ORDER\"]=\"PCI_BUS_ID\"   # see issue #152\n",
    "os.environ[\"CUDA_VISIBLE_DEVICES\"]=\"2\"\n"
   ]
  },
  {
   "cell_type": "code",
   "execution_count": 16,
   "metadata": {
    "executionInfo": {
     "elapsed": 14,
     "status": "ok",
     "timestamp": 1658910682779,
     "user": {
      "displayName": "Максим Голдин",
      "userId": "08631407013133915158"
     },
     "user_tz": -180
    },
    "id": "eQTAqnFptwul"
   },
   "outputs": [],
   "source": []
  },
  {
   "cell_type": "markdown",
   "metadata": {
    "id": "N5KgKxhmMm1r"
   },
   "source": [
    "## Setup"
   ]
  },
  {
   "cell_type": "code",
   "execution_count": 59,
   "metadata": {
    "id": "jV2c5yengHyC"
   },
   "outputs": [],
   "source": [
    "seed = 12345\n",
    "\n",
    "torch.manual_seed(seed)\n",
    "torch.cuda.manual_seed(seed)\n",
    "np.random.seed(seed)\n",
    "torch.backends.cudnn.deterministic = True"
   ]
  },
  {
   "cell_type": "markdown",
   "metadata": {},
   "source": [
    "# Check different euclidian dist func"
   ]
  },
  {
   "cell_type": "code",
   "execution_count": 18,
   "metadata": {
    "id": "XH3PcL2MYT9H"
   },
   "outputs": [],
   "source": [
    "\n",
    "def euclidean_squared_distance_v1(input1, input2):\n",
    "    \"\"\"Computes euclidean squared distance.\n",
    "    Args:\n",
    "        input1 (torch.Tensor): 2-D feature matrix.\n",
    "        input2 (torch.Tensor): 2-D feature matrix.\n",
    "    Returns:\n",
    "        torch.Tensor: distance matrix.\n",
    "    \"\"\"\n",
    "    distmat = torch.cdist(input1, input2, p=2.0) \n",
    "    return distmat**2\n",
    "\n",
    "\n",
    "def euclidean_squared_distance_v2(input1, input2):\n",
    "    \"\"\"Computes euclidean squared distance.\n",
    "    Args:\n",
    "        input1 (torch.Tensor): 2-D feature matrix.\n",
    "        input2 (torch.Tensor): 2-D feature matrix.\n",
    "    Returns:\n",
    "        torch.Tensor: distance matrix.\n",
    "    \"\"\"\n",
    "    # each cell  (a-b)^2 = a^2-2ab+b^2\n",
    "    m, n = input1.size(0), input2.size(0)\n",
    "    mat1 = torch.pow(input1, 2).sum(dim=1, keepdim=True).expand(m, n)\n",
    "    mat2 = torch.pow(input2, 2).sum(dim=1, keepdim=True).expand(n, m).t()\n",
    "    distmat = mat1 + mat2\n",
    "    distmat.addmm_(input1, input2.t(), beta=1, alpha=-2)\n",
    "    return distmat\n",
    "\n"
   ]
  },
  {
   "cell_type": "markdown",
   "metadata": {},
   "source": [
    "## explain euclidean_squared_distance_v1"
   ]
  },
  {
   "cell_type": "code",
   "execution_count": 26,
   "metadata": {},
   "outputs": [],
   "source": [
    "input1 = torch.randn((3,100))\n"
   ]
  },
  {
   "cell_type": "code",
   "execution_count": 27,
   "metadata": {},
   "outputs": [
    {
     "name": "stdout",
     "output_type": "stream",
     "text": [
      "tensor(16.3962)\n",
      "torch.Size([3])\n",
      "torch.Size([3, 1])\n",
      "torch.Size([3, 100])\n"
     ]
    },
    {
     "data": {
      "text/plain": [
       "torch.Size([3, 100])"
      ]
     },
     "execution_count": 27,
     "metadata": {},
     "output_type": "execute_result"
    }
   ],
   "source": [
    "print(input1.norm())\n",
    "print(input1.norm(dim=1).shape)\n",
    "print(input1.norm(dim=1)[:, None].shape)\n",
    "print(input1.shape)\n",
    "input1_norm =input1/input1.norm(dim=1)[:, None]\n",
    "input1_norm.shape"
   ]
  },
  {
   "cell_type": "markdown",
   "metadata": {},
   "source": [
    "### torch.mm"
   ]
  },
  {
   "cell_type": "code",
   "execution_count": 29,
   "metadata": {},
   "outputs": [
    {
     "data": {
      "text/plain": [
       "tensor([[-0.5445,  1.0862,  1.4717],\n",
       "        [-0.0646,  0.2895,  0.2801]])"
      ]
     },
     "execution_count": 29,
     "metadata": {},
     "output_type": "execute_result"
    }
   ],
   "source": [
    "mat1 = torch.randn(2, 3)\n",
    "mat2 = torch.randn(3, 3)\n",
    "torch.mm(mat1, mat2)"
   ]
  },
  {
   "cell_type": "markdown",
   "metadata": {},
   "source": [
    "### compare torch.mm and  torch.matmul"
   ]
  },
  {
   "cell_type": "code",
   "execution_count": 31,
   "metadata": {},
   "outputs": [
    {
     "name": "stdout",
     "output_type": "stream",
     "text": [
      "torch.Size([12, 100]) torch.Size([33, 100])\n",
      "res_mm.shape torch.Size([12, 33])\n",
      "res_matmul torch.Size([12, 33])\n"
     ]
    }
   ],
   "source": [
    "input1 = torch.randn((12,100))\n",
    "input2 = torch.randn((33,100))\n",
    "print(input1.shape, input2.shape)\n",
    "res_mm = torch.mm(input1,input2.t())\n",
    "res_matmul = torch.matmul(input1,input2.t())\n",
    "print('res_mm.shape',res_mm.shape)\n",
    "print('res_matmul',res_matmul.shape)"
   ]
  },
  {
   "cell_type": "code",
   "execution_count": 34,
   "metadata": {},
   "outputs": [],
   "source": [
    "assert (res_matmul==res_mm).all(),'res_matmul!=res_mm'"
   ]
  },
  {
   "cell_type": "markdown",
   "metadata": {},
   "source": [
    "## compare euclidean_squared_distance_v2 and euclidean_squared_distance_v1"
   ]
  },
  {
   "cell_type": "code",
   "execution_count": 35,
   "metadata": {},
   "outputs": [
    {
     "name": "stdout",
     "output_type": "stream",
     "text": [
      "shape  torch.Size([3, 4])\n"
     ]
    }
   ],
   "source": [
    "input1 = torch.randn((3,5))\n",
    "input2 = torch.randn((4,5))\n",
    "\n",
    "res_v1 = euclidean_squared_distance_v1(input1, input2)\n",
    "res_v2 = euclidean_squared_distance_v2(input1, input2)\n",
    "assert torch.allclose(res_v1,res_v2), 'results are not equal'\n",
    "assert res_v1.shape == res_v2.shape, 'shapes are not equal'\n",
    "print('shape ',res_v1.shape)\n"
   ]
  },
  {
   "cell_type": "markdown",
   "metadata": {},
   "source": [
    "## timeit both funcs "
   ]
  },
  {
   "cell_type": "code",
   "execution_count": 36,
   "metadata": {},
   "outputs": [],
   "source": [
    "input1 = torch.randn((1000,5120))\n",
    "input2 = torch.randn((3000,5120))\n"
   ]
  },
  {
   "cell_type": "code",
   "execution_count": 37,
   "metadata": {},
   "outputs": [
    {
     "name": "stdout",
     "output_type": "stream",
     "text": [
      "42.6 ms ± 3.33 ms per loop (mean ± std. dev. of 7 runs, 10 loops each)\n"
     ]
    }
   ],
   "source": [
    "%timeit euclidean_squared_distance_v1(input1, input2)"
   ]
  },
  {
   "cell_type": "code",
   "execution_count": 38,
   "metadata": {},
   "outputs": [
    {
     "name": "stdout",
     "output_type": "stream",
     "text": [
      "34.7 ms ± 3.47 ms per loop (mean ± std. dev. of 7 runs, 10 loops each)\n"
     ]
    }
   ],
   "source": [
    "%timeit euclidean_squared_distance_v2(input1, input2)"
   ]
  },
  {
   "cell_type": "markdown",
   "metadata": {},
   "source": [
    "# select with mask"
   ]
  },
  {
   "cell_type": "markdown",
   "metadata": {},
   "source": [
    "###  1d_tensor"
   ]
  },
  {
   "cell_type": "code",
   "execution_count": 39,
   "metadata": {},
   "outputs": [
    {
     "name": "stdout",
     "output_type": "stream",
     "text": [
      "tensor tensor([0.5632, 0.3211, 0.0368, 0.4203, 0.7256, 0.4745, 0.0292])\n",
      "mask tensor([2, 1, 0, 0, 0, 0, 2])\n"
     ]
    }
   ],
   "source": [
    "tensor = torch.rand(7)\n",
    "mask = torch.randint(3,(7,))\n",
    "print('tensor',tensor)\n",
    "print('mask',mask)"
   ]
  },
  {
   "cell_type": "code",
   "execution_count": 40,
   "metadata": {},
   "outputs": [
    {
     "name": "stdout",
     "output_type": "stream",
     "text": [
      "tensor tensor([0.5632, 0.3211, 0.0368, 0.4203, 0.7256, 0.4745, 0.0292])\n",
      "mask_similar tensor([False,  True, False, False, False, False, False])\n",
      "select only vals with mask = 1 tensor([0.3211])\n",
      "select only vals with mask = 1 tensor([0.3211])\n",
      "select only vals with mask = 1 tensor([0.3211])\n"
     ]
    }
   ],
   "source": [
    "class_id = 1\n",
    "mask_binary = mask== class_id\n",
    "print('tensor',tensor)\n",
    "print('mask_similar',mask_binary)\n",
    "print('select only vals with mask = 1', torch.masked_select(tensor, mask_binary))\n",
    "print('select only vals with mask = 1', tensor[mask_binary])\n",
    "print('select only vals with mask = 1', tensor[mask==1])"
   ]
  },
  {
   "cell_type": "markdown",
   "metadata": {},
   "source": [
    "### 2d "
   ]
  },
  {
   "cell_type": "code",
   "execution_count": 41,
   "metadata": {},
   "outputs": [],
   "source": [
    "def neg_pos_pairs(distance_matrix, targets):\n",
    "    n = distance_matrix.size(0)\n",
    "    distance_positive_pairs, distance_negative_pairs = [], []\n",
    "    for i in range(n):\n",
    "        row_dist = distance_matrix[i]\n",
    "        cur_class = targets[i]\n",
    "        mask_similar = targets == cur_class\n",
    "        pos_dists = torch.masked_select(row_dist, mask_similar)\n",
    "        neg_dists = torch.masked_select(row_dist, ~mask_similar)\n",
    "        hard_neg_dist = min(neg_dists)\n",
    "        hard_pos_dist = max(pos_dists)\n",
    "        distance_positive_pairs.append(hard_pos_dist)\n",
    "        distance_negative_pairs.append(hard_neg_dist)\n",
    "    distance_positive_pairs = torch.stack(distance_positive_pairs)\n",
    "    distance_negative_pairs = torch.stack(distance_negative_pairs)\n",
    "\n",
    "    return distance_positive_pairs, distance_negative_pairs"
   ]
  },
  {
   "cell_type": "code",
   "execution_count": 42,
   "metadata": {},
   "outputs": [],
   "source": [
    "def neg_pos_pairs2(distance_matrix, targets):\n",
    "    n = distance_matrix.size(0)\n",
    "    distance_positive_pairs, distance_negative_pairs = [], []\n",
    "    for i in range(n):\n",
    "        row_dist = distance_matrix[i]\n",
    "        cur_class = targets[i]\n",
    "        mask_similar = targets == cur_class\n",
    "        pos_dists = row_dist[mask_similar]\n",
    "        neg_dists = row_dist[mask_similar == 0]\n",
    "        hard_neg_dist = min(neg_dists)\n",
    "        hard_pos_dist = max(pos_dists)\n",
    "        distance_positive_pairs.append(hard_pos_dist)\n",
    "        distance_negative_pairs.append(hard_neg_dist)\n",
    "    distance_positive_pairs = torch.stack(distance_positive_pairs)\n",
    "    distance_negative_pairs = torch.stack(distance_negative_pairs)\n",
    "\n",
    "    return distance_positive_pairs, distance_negative_pairs"
   ]
  },
  {
   "cell_type": "code",
   "execution_count": 43,
   "metadata": {},
   "outputs": [],
   "source": [
    "def neg_pos_pairs3(distance_matrix, targets):\n",
    "    n = distance_matrix.size(0)\n",
    "    mask = targets.expand(n, n).eq(targets.expand(n, n).t())\n",
    "    distance_positive_pairs, distance_negative_pairs = [], []\n",
    "    for i in range(n):\n",
    "        distance_positive_pairs.append(dist[i][mask[i]].max().unsqueeze(0))\n",
    "        distance_negative_pairs.append(dist[i][mask[i] == 0].min().unsqueeze(0))\n",
    "    distance_positive_pairs = torch.cat(distance_positive_pairs)\n",
    "    distance_negative_pairs = torch.cat(distance_negative_pairs)\n",
    "    return distance_positive_pairs, distance_negative_pairs"
   ]
  },
  {
   "cell_type": "code",
   "execution_count": 44,
   "metadata": {},
   "outputs": [],
   "source": [
    "def neg_pos_pairs4(distance_matrix, targets):\n",
    "    n = distance_matrix.size(0)\n",
    "    mask = targets.expand(n, n).eq(targets.expand(n, n).t())\n",
    "    distance_positive_pairs, distance_negative_pairs = [], []\n",
    "    for i in range(n):\n",
    "        row_dist = distance_matrix[i]\n",
    "        row_mask = mask[i]\n",
    "        hard_pos_dist = row_dist[row_mask].max().unsqueeze(0)\n",
    "        hard_neg_dist = row_dist[row_mask==0].min().unsqueeze(0)\n",
    "        #pos_dists = torch.masked_select(row_dist, row_mask).max()\n",
    "        #neg_dists = torch.masked_select(row_dist, ~row_mask).min()\n",
    "        distance_positive_pairs.append(hard_pos_dist)\n",
    "        distance_negative_pairs.append(hard_neg_dist) \n",
    "    distance_positive_pairs = torch.cat(distance_positive_pairs)\n",
    "    distance_negative_pairs = torch.cat(distance_negative_pairs)\n",
    "    return distance_positive_pairs, distance_negative_pairs"
   ]
  },
  {
   "cell_type": "markdown",
   "metadata": {},
   "source": [
    "## expand mask "
   ]
  },
  {
   "cell_type": "code",
   "execution_count": 45,
   "metadata": {},
   "outputs": [
    {
     "data": {
      "text/plain": [
       "tensor([1, 0, 1, 2, 1, 2, 1])"
      ]
     },
     "execution_count": 45,
     "metadata": {},
     "output_type": "execute_result"
    }
   ],
   "source": [
    "n = 7\n",
    "targets = torch.randint(3,(n,))\n",
    "targets"
   ]
  },
  {
   "cell_type": "code",
   "execution_count": 46,
   "metadata": {},
   "outputs": [
    {
     "data": {
      "text/plain": [
       "tensor([[ True, False,  True, False,  True, False,  True],\n",
       "        [False,  True, False, False, False, False, False],\n",
       "        [ True, False,  True, False,  True, False,  True],\n",
       "        [False, False, False,  True, False,  True, False],\n",
       "        [ True, False,  True, False,  True, False,  True],\n",
       "        [False, False, False,  True, False,  True, False],\n",
       "        [ True, False,  True, False,  True, False,  True]])"
      ]
     },
     "execution_count": 46,
     "metadata": {},
     "output_type": "execute_result"
    }
   ],
   "source": [
    "mask = targets.expand(n, n).eq(targets.expand(n, n).t())\n",
    "mask"
   ]
  },
  {
   "cell_type": "code",
   "execution_count": 47,
   "metadata": {},
   "outputs": [
    {
     "data": {
      "text/plain": [
       "(tensor([[0.0000, 1.0912, 2.3678, 2.2721, 3.8014, 1.9302, 2.0710],\n",
       "         [1.0912, 0.0000, 2.0342, 1.9520, 3.6402, 2.5636, 2.4721],\n",
       "         [2.3678, 2.0342, 0.0000, 0.0959, 1.6148, 1.9938, 1.5082],\n",
       "         [2.2721, 1.9520, 0.0959, 0.0000, 1.6911, 1.9319, 1.4580],\n",
       "         [3.8014, 3.6402, 1.6148, 1.6911, 0.0000, 2.6299, 2.1079],\n",
       "         [1.9302, 2.5636, 1.9938, 1.9319, 2.6299, 0.0000, 0.5444],\n",
       "         [2.0710, 2.4721, 1.5082, 1.4580, 2.1079, 0.5444, 0.0000]]),\n",
       " tensor([2, 0, 1, 2, 2, 0, 0]))"
      ]
     },
     "execution_count": 47,
     "metadata": {},
     "output_type": "execute_result"
    }
   ],
   "source": [
    "input1 = torch.randn((7,2))\n",
    "\n",
    "dist = torch.cdist(input1, input1, p=2.0)\n",
    "targets = torch.randint(3,(dist.size(0),))\n",
    "\n",
    "dist,targets"
   ]
  },
  {
   "cell_type": "code",
   "execution_count": 48,
   "metadata": {},
   "outputs": [],
   "source": [
    "distance_positive_pairs, distance_negative_pairs = neg_pos_pairs(dist,targets)\n",
    "distance_positive_pairs2, distance_negative_pairs2 = neg_pos_pairs2(dist,targets)\n",
    "distance_positive_pairs3, distance_negative_pairs3 = neg_pos_pairs3(dist,targets)\n",
    "distance_positive_pairs4, distance_negative_pairs4 = neg_pos_pairs4(dist,targets)\n"
   ]
  },
  {
   "cell_type": "code",
   "execution_count": 49,
   "metadata": {},
   "outputs": [],
   "source": [
    "assert (distance_positive_pairs == distance_positive_pairs3).all(),'func results are not equal'\n",
    "assert (distance_positive_pairs == distance_positive_pairs2).all(),'func results are not equal'\n",
    "assert (distance_positive_pairs == distance_positive_pairs4).all(),'func results are not equal'\n"
   ]
  },
  {
   "cell_type": "markdown",
   "metadata": {},
   "source": [
    "### speed"
   ]
  },
  {
   "cell_type": "code",
   "execution_count": 50,
   "metadata": {},
   "outputs": [],
   "source": [
    "input1 = torch.randn((500,512))\n",
    "dist = torch.cdist(input1, input1, p=2.0)\n",
    "targets = torch.randint(20,(dist.size(0),))\n",
    "\n"
   ]
  },
  {
   "cell_type": "code",
   "execution_count": 51,
   "metadata": {},
   "outputs": [
    {
     "name": "stdout",
     "output_type": "stream",
     "text": [
      "687 ms ± 5.32 ms per loop (mean ± std. dev. of 7 runs, 1 loop each)\n"
     ]
    }
   ],
   "source": [
    "%timeit neg_pos_pairs(dist,targets)"
   ]
  },
  {
   "cell_type": "code",
   "execution_count": 52,
   "metadata": {},
   "outputs": [
    {
     "name": "stdout",
     "output_type": "stream",
     "text": [
      "690 ms ± 6.45 ms per loop (mean ± std. dev. of 7 runs, 1 loop each)\n"
     ]
    }
   ],
   "source": [
    "%timeit neg_pos_pairs2(dist,targets)"
   ]
  },
  {
   "cell_type": "code",
   "execution_count": 53,
   "metadata": {},
   "outputs": [
    {
     "name": "stdout",
     "output_type": "stream",
     "text": [
      "17.3 ms ± 27.3 µs per loop (mean ± std. dev. of 7 runs, 100 loops each)\n"
     ]
    }
   ],
   "source": [
    "%timeit neg_pos_pairs3(dist, targets)"
   ]
  },
  {
   "cell_type": "code",
   "execution_count": 54,
   "metadata": {},
   "outputs": [
    {
     "name": "stdout",
     "output_type": "stream",
     "text": [
      "16.3 ms ± 75.1 µs per loop (mean ± std. dev. of 7 runs, 100 loops each)\n"
     ]
    }
   ],
   "source": [
    "%timeit neg_pos_pairs4(dist,targets)"
   ]
  },
  {
   "cell_type": "code",
   "execution_count": null,
   "metadata": {
    "id": "xlVM0XCZZG_r"
   },
   "outputs": [],
   "source": []
  },
  {
   "cell_type": "code",
   "execution_count": null,
   "metadata": {},
   "outputs": [],
   "source": []
  }
 ],
 "metadata": {
  "accelerator": "GPU",
  "colab": {
   "collapsed_sections": [],
   "machine_shape": "hm",
   "name": "Exercise_ReID.ipynb",
   "provenance": [],
   "toc_visible": true
  },
  "kernelspec": {
   "display_name": "Python [conda env:tracking]",
   "language": "python",
   "name": "conda-env-tracking-py"
  },
  "language_info": {
   "codemirror_mode": {
    "name": "ipython",
    "version": 3
   },
   "file_extension": ".py",
   "mimetype": "text/x-python",
   "name": "python",
   "nbconvert_exporter": "python",
   "pygments_lexer": "ipython3",
   "version": "3.10.4"
  }
 },
 "nbformat": 4,
 "nbformat_minor": 1
}
