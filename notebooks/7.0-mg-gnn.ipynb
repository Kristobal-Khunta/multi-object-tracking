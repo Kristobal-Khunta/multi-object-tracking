{
 "cells": [
  {
   "cell_type": "markdown",
   "metadata": {
    "id": "xABx3A-soZMM"
   },
   "source": [
    "# Computer Vision III: Detection, Segmentation and Tracking (CV3DST) GNN \n",
    "\n",
    "We will implement a Message Passing Network from scratch, and we will use to build a model that will learn to combine position information and reid features to directly predict associations between past tracks and detections. We will use this model to create robust tracker. \n",
    "- Implement a Message Passing Network from scratch to operate on bipartite graphs\n",
    "- Implement the pairwise feature  computation to obtain features for our Message Passing Network\n",
    "- Train the Message Passing Network and improve your tracker's IDF1 score"
   ]
  },
  {
   "cell_type": "markdown",
   "metadata": {
    "id": "LFYSSMiwpxSq"
   },
   "source": [
    "#### Install and import Python libraries"
   ]
  },
  {
   "cell_type": "code",
   "execution_count": 1,
   "metadata": {
    "id": "KRMsynpFU6gh"
   },
   "outputs": [],
   "source": [
    "%load_ext autoreload\n",
    "%autoreload 2\n",
    "%matplotlib inline\n"
   ]
  },
  {
   "cell_type": "code",
   "execution_count": 2,
   "metadata": {
    "id": "RGOohkAgo-hW"
   },
   "outputs": [
    {
     "name": "stderr",
     "output_type": "stream",
     "text": [
      "/tmp/ipykernel_6256/4026713787.py:8: TqdmWarning: IProgress not found. Please update jupyter and ipywidgets. See https://ipywidgets.readthedocs.io/en/stable/user_install.html\n",
      "  from tqdm.autonotebook import tqdm\n"
     ]
    }
   ],
   "source": [
    "import os\n",
    "import sys\n",
    "import matplotlib.pyplot as plt\n",
    "import numpy as np\n",
    "import time\n",
    "import copy\n",
    "\n",
    "from tqdm.autonotebook import tqdm\n",
    "\n",
    "import torch\n",
    "from torch import nn\n",
    "from torch.utils.data import DataLoader\n",
    "from torch.nn import functional as F\n",
    "\n",
    "from scipy.optimize import linear_sum_assignment as linear_assignment\n",
    "import os.path as osp\n",
    "\n",
    "import motmetrics as mm\n",
    "\n",
    "mm.lap.default_solver = \"lap\"\n"
   ]
  },
  {
   "cell_type": "markdown",
   "metadata": {},
   "source": [
    "## import local functions"
   ]
  },
  {
   "cell_type": "code",
   "execution_count": 3,
   "metadata": {},
   "outputs": [],
   "source": [
    "\n",
    "root_dir = \"..\"\n",
    "sys.path.append(os.path.join(root_dir, \"src\"))\n"
   ]
  },
  {
   "cell_type": "code",
   "execution_count": 4,
   "metadata": {},
   "outputs": [],
   "source": [
    "\n",
    "from mot.data.data_track import MOT16Sequences\n",
    "from mot.tracker.advanced import LongTermReIDHungarianTracker\n",
    "from mot.utils import  cosine_distance,ltrb_to_xcycwh\n",
    "from mot.eval import get_mot_accum,evaluate_mot_accums,run_tracker\n",
    "from mot.visualize import plot_sequence"
   ]
  },
  {
   "cell_type": "markdown",
   "metadata": {
    "id": "-Qubi7uE6EPd"
   },
   "source": [
    "## Speed-Ups\n",
    "In order to speed up training and inference runtimes, in this exercise we will be working with pre-computed detections and ReID embeddings. We ran the object detector we provided in Exercise 0 and applied to all frames. We also computed reid embeddings for all boxes in every frame of the dataset so that they don't need to be computed every time you run your tracker. This yields over 10x speed improvements. You will not have to work directly with the resulting files, as we have internally adapted the boilerplate code to work with them."
   ]
  },
  {
   "cell_type": "code",
   "execution_count": 5,
   "metadata": {},
   "outputs": [],
   "source": [
    "# gnn_root_dir\n",
    "# root_dir = '..'\n"
   ]
  },
  {
   "cell_type": "code",
   "execution_count": 6,
   "metadata": {
    "id": "tESJ1I1n7ot1"
   },
   "outputs": [],
   "source": [
    "train_db = torch.load(\n",
    "    osp.join(root_dir, \"data/preprocessed_data/preprocessed_data_train_2.pth\")\n",
    ")\n"
   ]
  },
  {
   "cell_type": "code",
   "execution_count": 7,
   "metadata": {
    "id": "dZ1vBklj7ot3"
   },
   "outputs": [],
   "source": [
    "val_sequences = MOT16Sequences(\n",
    "    \"MOT16-reid\", root_dir=osp.join(root_dir, \"data/MOT16\"), vis_threshold=0.0\n",
    ")\n"
   ]
  },
  {
   "cell_type": "markdown",
   "metadata": {
    "id": "CBeSJrY87ot7"
   },
   "source": [
    "## Building a tracker based on Neural Message Passing\n",
    "\n",
    "Our ``LongTermReIDHungarianTracker`` is still limited when compared to current modern trackers. \n",
    "\n",
    "Firstly, it relies solely on appearance to predict similarity scores between objectes. This can be problematic whenever appearance alone may not discriminative, and it'd be best to also take into account object position and size attributes. Secondly, our tracker can only account for pairwise similarities among objects. Ideally, we would like it to also consider higher-order information.\n",
    "\n",
    "To address these limitations. We will now build a tracker that will combine both apperance and position information with a Message Passing Neural Network, inspired by the approach presented in [Learning a Neural Solver for Multiple Object Tracking, CVPR 2020](https://arxiv.org/abs/1912.07515)\n",
    "\n",
    "The overall idea will be to build, for every tracking step, a bipartite graph containing two sets of nodes: past tracks, and detections in the current frame. We will initialize node features with ReID embeddings, and edge features with relative position features and ReID distance. We will use an MPN to refine these edge embeddings. The learning task will be to classify the edge embeddings in this graph, which is equivalent to predicting the entries of our data association similarity matrix.\n"
   ]
  },
  {
   "cell_type": "markdown",
   "metadata": {
    "id": "eVbnOrlPqWRB"
   },
   "source": [
    "### Building an MPN for Bipartite Graphs\n",
    "\n",
    "We will first build a Neural Message Passing layer based on the Graph Networks framework introduced in [Relational inductive biases, deep learning, and graph networks, arXiv 2020](https://arxiv.org/abs/1806.01261), as explained in the *A More General Framework*\n",
    "\n",
    "We will be using a bipartite graph, i.e., we will have two sets of nodes $A$ (past tracks), and $B$ (detections), and our set of edges will be $A\\times B$. That is, we will connect every pair of past tracks and detections.\n",
    "\n",
    "We will have initial node features (i.e. reid embeddings) matrices: $X_A$ and $X_B$ and an initial edge features tensor $E$.\n",
    "\n",
    "$X_A$ and $X_B$ have shape $|A|\\times \\text{node\\_dim}$ and $|B|\\times \\text{node\\_dim}$, respectively.\n",
    "\n",
    "$E$ has shape $|A| \\times |B| \\times \\text{edge\\_dim}$. Its $(i, j)$ entry contains the edge features of node $i$ in $A$ and node $j$ in $B$.\n",
    "\n",
    "With the given layer, we will produce new node feature matrices $X_A'$ and $X_B'$ and edge features $E'$ with the same dimensions. \n",
    "Please refer to the formulas in the slides and figure how to apply them in this setting.\n",
    "\n",
    "You are asked to implement both the node and edge update steps in the class below\n",
    "\n",
    "**NOTE 1**: Working with a bipartite graph allows us to vectorize all operations in the formulas in a straightforward manner (keep in mind that we store edge features in a matrix). Given a node in $A$, it is connected to all nodes in $B$.\n",
    "\n",
    "**NOTE 2**: You do not need to care about batching several graphs. This implementation will only work with a single graph at a time."
   ]
  },
  {
   "cell_type": "markdown",
   "metadata": {
    "id": "F2sPoUo07ot8"
   },
   "source": [
    "## Building the entire network to predict similarities\n",
    "We now build the network that generates initial node and edge features, performs neural message passing, and classifies edges in order to produce the final costs that we will use for data association.\n",
    "\n",
    "we  implement the method that computes the initial edge features. You can can follow [1] and, given a two bounding boxes $(x_i, y_i, w_i, h_i)$ and  $(x_j, y_j, w_j, h_j)$ and timestamps $t_i$ and $t_j$, compute an initial 5-dimensional edge feature vector as:\n",
    "$$ E_(i, j) = \\left (\\frac{2(x_j - x_i)}{h_i + h_j}, \\frac{2(y_j - y_i)}{h_i + h_j}, \\log{\\frac{h_i}{h_j}}, \\log{\\frac{w_i}{w_j}}, t_j - t_i \\right )$$\n",
    "\n",
    "\n"
   ]
  },
  {
   "cell_type": "code",
   "execution_count": 8,
   "metadata": {},
   "outputs": [],
   "source": [
    "from mot.models.gnn import SimilarityNet"
   ]
  },
  {
   "cell_type": "markdown",
   "metadata": {
    "id": "7Cdr6YDY7ot8"
   },
   "source": [
    "## Putting everything together"
   ]
  },
  {
   "cell_type": "markdown",
   "metadata": {
    "id": "Xp3cC6j57ot9"
   },
   "source": [
    "Finally,incorporate our ``SimilarityNet`` into our tracker. We can keep everything as in ``LongTermReIDHungarianTracker`` except for the distance computation, which is now directly obtained via a forward pass through AssignmentSimilarityNet."
   ]
  },
  {
   "cell_type": "code",
   "execution_count": 9,
   "metadata": {},
   "outputs": [],
   "source": [
    "from mot.tracker.advanced import MPNTracker"
   ]
  },
  {
   "cell_type": "markdown",
   "metadata": {
    "id": "cyzMUfYE7ot9"
   },
   "source": [
    "## Training and evaluating our model\n",
    "\n",
    "We provide all boilerplate code for training our neural message passing based\n",
    "tracker, as well as evaluating. \n",
    "\n",
    "Under the hood, we are sampling frames randomly from our training sequences, and then sampling boxes from past frames as past_tracks to generate our \n",
    "training\n",
    "data. Check out `LongTrackTrainingDataset` for details.\n",
    "\n",
    "We train the model with a weighted cross-entropy loss\n",
    "to account for the class imbalance. Check out `train_one_epoch` if you're \n",
    "interested.\n",
    "\n",
    "No need to write any code from your side here!\n"
   ]
  },
  {
   "cell_type": "code",
   "execution_count": 10,
   "metadata": {
    "id": "kuYy1IMK7ot9"
   },
   "outputs": [],
   "source": [
    "from mot.data.data_gnn import LongTrackTrainingDataset\n",
    "from torch.utils.data import DataLoader\n",
    "from mot.trainer import train_one_epoch\n",
    "\n",
    "MAX_PATIENCE = 20\n",
    "MAX_EPOCHS = 15\n",
    "EVAL_FREQ = 1\n",
    "device = torch.device(\"cpu\")\n",
    "\n",
    "\n",
    "# Define our model, and init\n",
    "similarity_net = SimilarityNet(\n",
    "    reid_network=None,  # Not needed since we work with precomputed features\n",
    "    node_dim=32,\n",
    "    edge_dim=64,\n",
    "    reid_dim=512,\n",
    "    edges_in_dim=6,\n",
    "    num_steps=10,\n",
    ").to(device)\n",
    "\n",
    "# We only keep two sequences for validation. You can\n",
    "dataset = LongTrackTrainingDataset(\n",
    "    dataset=\"MOT16-train_wo_val2\",\n",
    "    db=train_db,\n",
    "    root_dir=osp.join(root_dir, \"data/MOT16\"),\n",
    "    max_past_frames=MAX_PATIENCE,\n",
    "    vis_threshold=0.25,\n",
    ")\n",
    "\n",
    "data_loader = DataLoader(\n",
    "    dataset,\n",
    "    batch_size=8,\n",
    "    collate_fn=lambda x: x,\n",
    "    shuffle=True,\n",
    "    num_workers=2,\n",
    "    drop_last=True,\n",
    ")\n",
    "optimizer = torch.optim.Adam(similarity_net.parameters(), lr=0.001)\n",
    "scheduler = torch.optim.lr_scheduler.StepLR(optimizer, step_size=5)\n"
   ]
  },
  {
   "cell_type": "markdown",
   "metadata": {
    "id": "FxiIUDGn2_Nq"
   },
   "source": [
    "We only leave 2 sequences for validation in order to maximize \n",
    "the amount of training data. For your convenience, here are the\n",
    " LongTermReIDTracker results on them. Your validation IDF1 scores should show an improvement over them.\n",
    "```\n",
    "\n",
    "          IDF1   IDP   IDR  Rcll  Prcn  GT MT PT ML  FP    FN IDs   FM  MOTA  MOTP\n",
    "MOT16-02 45.9% 65.1% 35.4% 52.2% 96.1%  62 12 37 13 390  8873 130  210 49.4% 0.090\n",
    "MOT16-11 68.3% 75.3% 62.5% 80.2% 96.6%  75 44 24  7 266  1871 136   90 75.9% 0.083\n",
    "OVERALL  54.3% 69.6% 44.5% 61.7% 96.3% 137 56 61 20 656 10744 266  300 58.4% 0.087\n",
    "```\n",
    "\n"
   ]
  },
  {
   "cell_type": "markdown",
   "metadata": {
    "id": "V7tCJJ3V3Oaa"
   },
   "source": [
    "Let's start training!\n",
    "\n",
    "Note that we have observed quite a lot of noise in validation scores among epochs and runs. This can be explained due to the small size of our training and\n",
    "validation sets, that's why we perform early stopping to obtain the best performing model on validation. In addition, changing the experiment seed and/or relaunching the training might help in case you are suspecting that noise might be influencing your scores. "
   ]
  },
  {
   "cell_type": "code",
   "execution_count": 12,
   "metadata": {},
   "outputs": [],
   "source": [
    "tracker = MPNTrackerOfflineDet(\n",
    "        similarity_net=similarity_net.eval(),device=device, obj_detect=None, patience=MAX_PATIENCE\n",
    "    )"
   ]
  },
  {
   "cell_type": "code",
   "execution_count": null,
   "metadata": {
    "id": "oQHiwbVr7ot9"
   },
   "outputs": [],
   "source": [
    "best_idf1 = 0.0\n",
    "for epoch in range(1, MAX_EPOCHS + 1):\n",
    "    print(f\"-------- EPOCH {epoch:2d} --------\")\n",
    "    train_one_epoch(\n",
    "        model=similarity_net, data_loader=data_loader, optimizer=optimizer, print_freq=50\n",
    "    )\n",
    "    scheduler.step()\n",
    "\n",
    "    if epoch % EVAL_FREQ == 0:\n",
    "        tracker = MPNTracker(\n",
    "            similarity_net=similarity_net.eval(), obj_detect=None, patience=MAX_PATIENCE\n",
    "        )\n",
    "        val_sequences = MOT16Sequences(\n",
    "            \"MOT16-val2\", osp.join(root_dir, \"data/MOT16\"), vis_threshold=0.0\n",
    "        )\n",
    "        res = run_tracker(val_sequences, db=train_db, tracker=tracker, output_dir=None)\n",
    "        idf1 = res.loc[\"OVERALL\"][\"idf1\"]\n",
    "        if idf1 > best_idf1:\n",
    "            best_idf1 = idf1\n",
    "            torch.save(\n",
    "                similarity_net.state_dict(), osp.join(root_dir, \"output\", \"best_ckpt.pth\")\n",
    "            )\n"
   ]
  },
  {
   "cell_type": "markdown",
   "metadata": {},
   "source": [
    "            IDF1   IDP   IDR  Rcll  Prcn  GT MT PT ML  FP    FN IDs   FM  MOTA  MOTP IDt IDa IDm\n",
    "    MOT16-02 48.5% 68.8% 37.4% 52.2% 96.1%  62 11 38 13 390  8873  98  222 49.6% 0.095  64  44  14\n",
    "    MOT16-11 70.3% 77.5% 64.3% 80.2% 96.6%  75 44 24  7 266  1871  36   90 77.0% 0.083  33  13  15\n",
    "    OVERALL  56.7% 72.6% 46.5% 61.7% 96.3% 137 55 62 20 656 10744 134  312 58.8% 0.090  97  57  29"
   ]
  },
  {
   "cell_type": "markdown",
   "metadata": {},
   "source": [
    "# Infer tracker "
   ]
  },
  {
   "cell_type": "code",
   "execution_count": 13,
   "metadata": {},
   "outputs": [
    {
     "name": "stdout",
     "output_type": "stream",
     "text": [
      "Tracking: MOT16-02\n",
      "Tracks found: 24\n",
      "Runtime for MOT16-02: 3.4 s.\n",
      "Tracking: MOT16-05\n",
      "Tracks found: 12\n",
      "Runtime for MOT16-05: 3.2 s.\n",
      "Tracking: MOT16-09\n",
      "Tracks found: 10\n",
      "Runtime for MOT16-09: 2.0 s.\n",
      "Tracking: MOT16-11\n",
      "Tracks found: 19\n",
      "Runtime for MOT16-11: 3.9 s.\n",
      "Runtime for all sequences: 12.5 s.\n",
      "         IDF1   IDP  IDR  Rcll  Prcn  GT  MT  PT ML   FP    FN   IDs   FM  MOTA  MOTP   IDt IDa IDm\n",
      "MOT16-02 3.7%  5.3% 2.9% 52.2% 96.1%  62  12  37 13  390  8873  9494  340 -0.9% 0.088  9482   9  39\n",
      "MOT16-05 4.5%  5.3% 3.9% 68.8% 94.0% 133  54  67 12  305  2156  4506  169 -0.7% 0.141  4536   6 117\n",
      "MOT16-09 9.1% 11.3% 7.6% 66.3% 97.7%  26  13  12  1   83  1794  3240  146  3.9% 0.083  3226   6  22\n",
      "MOT16-11 5.3%  5.8% 4.8% 80.2% 96.6%  75  44  24  7  266  1871  7388   99 -0.9% 0.083  7358   4  57\n",
      "OVERALL  5.0%  6.3% 4.1% 63.5% 96.1% 296 123 140 33 1044 14694 24628  754 -0.3% 0.096 24602  25 235\n"
     ]
    }
   ],
   "source": [
    "output_dir=None\n",
    "db  = train_db\n",
    "#####\n",
    "time_total = 0\n",
    "mot_accums = []\n",
    "results_seq = {}\n",
    "for seq in val_sequences:\n",
    "    # break\n",
    "    tracker.reset()\n",
    "    now = time.time()\n",
    "\n",
    "    print(f\"Tracking: {seq}\")\n",
    "\n",
    "    # data_loader = DataLoader(seq, batch_size=1, shuffle=False)\n",
    "    with torch.no_grad():\n",
    "        # for i, frame in enumerate(tqdm(data_loader)):\n",
    "        for frame in db[str(seq)]:\n",
    "            tracker.step(frame)\n",
    "\n",
    "    results = tracker.get_results()\n",
    "    results_seq[str(seq)] = results\n",
    "\n",
    "    if seq.no_gt:\n",
    "        print(\"No GT evaluation data available.\")\n",
    "    else:\n",
    "        mot_accums.append(get_mot_accum(results, seq))\n",
    "\n",
    "    time_total += time.time() - now\n",
    "\n",
    "    print(f\"Tracks found: {len(results)}\")\n",
    "    print(f\"Runtime for {seq}: {time.time() - now:.1f} s.\")\n",
    "\n",
    "    if output_dir is not None:\n",
    "        os.makedirs(output_dir, exist_ok=True)\n",
    "        seq.write_results(results, os.path.join(output_dir))\n",
    "\n",
    "print(f\"Runtime for all sequences: {time_total:.1f} s.\")\n",
    "if mot_accums:\n",
    "    evaluate_mot_accums(\n",
    "        mot_accums,\n",
    "        [str(s) for s in val_sequences if not s.no_gt],\n",
    "        generate_overall=True,\n",
    "    )\n"
   ]
  },
  {
   "cell_type": "markdown",
   "metadata": {},
   "source": [
    "## Visualize"
   ]
  },
  {
   "cell_type": "code",
   "execution_count": null,
   "metadata": {},
   "outputs": [],
   "source": [
    "plot_sequence(\n",
    "    results_seq[\"MOT16-02\"],\n",
    "    [s for s in val_sequences if str(s) == \"MOT16-02\"][0],\n",
    "    first_n_frames=2,\n",
    ")\n"
   ]
  },
  {
   "cell_type": "markdown",
   "metadata": {
    "id": "I5Vbe4g27ot-"
   },
   "source": [
    "# Test data\n"
   ]
  },
  {
   "cell_type": "code",
   "execution_count": null,
   "metadata": {
    "id": "8kJsbbMM7ot_"
   },
   "outputs": [],
   "source": [
    "best_ckpt = torch.load(osp.join(root_dir, \"output\", \"best_ckpt.pth\"))\n",
    "similarity_net.load_state_dict(best_ckpt)\n",
    "\n",
    "tracker = MPNTrackerOfflineDet(\n",
    "    similarity_net=similarity_net.eval(), device=device, obj_detect=None, patience=MAX_PATIENCE\n",
    ")\n",
    "test_db = torch.load(\n",
    "    osp.join(root_dir, \"data/preprocessed_data/preprocessed_data_test_2.pth\")\n",
    ")\n",
    "val_sequences = MOT16Sequences(\n",
    "    \"MOT16-test\", osp.join(root_dir, \"data/MOT16\"), vis_threshold=0.0\n",
    ")\n",
    "run_tracker(val_sequences, db=test_db, tracker=tracker, output_dir=None)\n"
   ]
  }
 ],
 "metadata": {
  "accelerator": "GPU",
  "colab": {
   "collapsed_sections": [],
   "machine_shape": "hm",
   "name": "Copy of CV3DST_Exercise2.ipynb",
   "provenance": [
    {
     "file_id": "1eIT4nfc3DGdosPZU2A5SsOSFZrY8JxhL",
     "timestamp": 1658683163750
    }
   ]
  },
  "kernelspec": {
   "display_name": "Python [conda env:tracking]",
   "language": "python",
   "name": "conda-env-tracking-py"
  },
  "language_info": {
   "codemirror_mode": {
    "name": "ipython",
    "version": 3
   },
   "file_extension": ".py",
   "mimetype": "text/x-python",
   "name": "python",
   "nbconvert_exporter": "python",
   "pygments_lexer": "ipython3",
   "version": "3.10.4"
  }
 },
 "nbformat": 4,
 "nbformat_minor": 4
}
