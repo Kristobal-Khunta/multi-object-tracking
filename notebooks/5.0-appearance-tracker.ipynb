{
 "cells": [
  {
   "cell_type": "markdown",
   "metadata": {
    "id": "LFYSSMiwpxSq"
   },
   "source": [
    "#### Install and import Python libraries"
   ]
  },
  {
   "cell_type": "code",
   "execution_count": null,
   "metadata": {},
   "outputs": [],
   "source": [
    "import os\n",
    "import sys\n",
    "import time\n",
    "import matplotlib.pyplot as plt\n",
    "import numpy as np\n",
    "import torch\n",
    "from torch.utils.data import DataLoader\n",
    "from tqdm.notebook import tqdm\n",
    "import motmetrics as mm\n",
    "\n",
    "mm.lap.default_solver = \"lap\"\n",
    "%matplotlib inline\n",
    "\n",
    "%load_ext autoreload\n",
    "%autoreload 2"
   ]
  },
  {
   "cell_type": "code",
   "execution_count": null,
   "metadata": {},
   "outputs": [],
   "source": [
    "root_dir = \"..\"\n",
    "sys.path.append(os.path.join(root_dir, \"src\"))"
   ]
  },
  {
   "cell_type": "code",
   "execution_count": null,
   "metadata": {},
   "outputs": [],
   "source": [
    "from market.models import build_model\n",
    "from mot.data.data_track import MOT16Sequences\n",
    "from mot.models.object_detector import FRCNN_FPN\n",
    "from mot.tracker.advanced import ReIDHungarianTracker\n",
    "from mot.tracker.base import Tracker\n",
    "from mot.visualize import plot_sequence\n",
    "from mot.eval import evaluate_mot_accums, get_mot_accum\n"
   ]
  },
  {
   "cell_type": "markdown",
   "metadata": {
    "id": "0cvaNe42gIll"
   },
   "source": [
    "# Object detector\n",
    "\n",
    "The object detector is a [Faster R-CNN](https://arxiv.org/abs/1506.01497) with a Resnet50 feature extractor. We trained the native PyTorch implementation of Faster-RCNN. For more information check out the corresponding PyTorch [webpage](https://pytorch.org/tutorials/intermediate/torchvision_tutorial.html)."
   ]
  },
  {
   "cell_type": "markdown",
   "metadata": {
    "id": "-Qubi7uE6EPd"
   },
   "source": [
    "\n",
    "## Configuration"
   ]
  },
  {
   "cell_type": "code",
   "execution_count": null,
   "metadata": {},
   "outputs": [],
   "source": [
    "obj_detect_model_file = os.path.join(root_dir, \"models/faster_rcnn_fpn.model\")\n",
    "obj_detect_nms_thresh = 0.3"
   ]
  },
  {
   "cell_type": "code",
   "execution_count": null,
   "metadata": {},
   "outputs": [],
   "source": [
    "device = torch.device(\"cuda:2\") if torch.cuda.is_available() else torch.device(\"cpu\")\n",
    "\n",
    "# object detector\n",
    "obj_detect = FRCNN_FPN(num_classes=2, nms_thresh=obj_detect_nms_thresh)\n",
    "obj_detect_state_dict = torch.load(\n",
    "    obj_detect_model_file, map_location=lambda storage, loc: storage\n",
    ")\n",
    "obj_detect.load_state_dict(obj_detect_state_dict)\n",
    "obj_detect.eval()\n",
    "obj_detect = obj_detect.to(device)"
   ]
  },
  {
   "cell_type": "markdown",
   "metadata": {
    "id": "WGszq40utUfA"
   },
   "source": [
    "# Multi-object tracking\n",
    "\n",
    "## Configuration"
   ]
  },
  {
   "cell_type": "code",
   "execution_count": null,
   "metadata": {},
   "outputs": [],
   "source": [
    "seed = 12345\n",
    "seq_name = \"MOT16-reid\"  # We recommend to use this subset.\n",
    "data_dir = os.path.join(root_dir, \"data/MOT16\")\n",
    "output_dir = os.path.join(root_dir, \"output\")"
   ]
  },
  {
   "cell_type": "markdown",
   "metadata": {
    "id": "N5KgKxhmMm1r"
   },
   "source": [
    "## Setup"
   ]
  },
  {
   "cell_type": "code",
   "execution_count": null,
   "metadata": {},
   "outputs": [],
   "source": [
    "torch.manual_seed(seed)\n",
    "torch.cuda.manual_seed(seed)\n",
    "np.random.seed(seed)\n",
    "torch.backends.cudnn.deterministic = True\n",
    "\n",
    "# dataset\n",
    "sequences = MOT16Sequences(seq_name, data_dir)"
   ]
  },
  {
   "cell_type": "markdown",
   "metadata": {},
   "source": [
    "# Reid + Hungarian algo+ cosine dist\n",
    "\n",
    "In this part, we combine the ReID model with the tracker to compute appearance-based matching.\n",
    "\n",
    "Since we're using a very simple ReID model, tracking only based on apperance is very difficult.\n",
    "For all pairs of tracks and detections, the distance is set to `_UNMATCHED_COST`, when the IoU value is below 0.5. For all other cases, the costs are based on the cosine distance. \n",
    "The cosine distance should be between -1 and 1."
   ]
  },
  {
   "cell_type": "markdown",
   "metadata": {},
   "source": [
    "## reid model"
   ]
  },
  {
   "cell_type": "code",
   "execution_count": null,
   "metadata": {},
   "outputs": [],
   "source": [
    "model_path = root_dir + \"/models/resnet50_reid.pth\"\n",
    "\n",
    "reid_model = build_model(\"resnet34\", 751, loss=\"softmax\", pretrained=True)\n",
    "reid_ckpt = torch.load(model_path)\n",
    "reid_model.load_state_dict(reid_ckpt)"
   ]
  },
  {
   "cell_type": "code",
   "execution_count": null,
   "metadata": {},
   "outputs": [],
   "source": [
    "reid_model = reid_model.to(device)"
   ]
  },
  {
   "cell_type": "markdown",
   "metadata": {
    "id": "IvB1hRhWtwaE"
   },
   "source": [
    "### Run tracker \n"
   ]
  },
  {
   "cell_type": "code",
   "execution_count": null,
   "metadata": {},
   "outputs": [],
   "source": [
    "# Old Trackers\n",
    "# tracker = BaseTrackerIoU(obj_detect)\n",
    "# tracker = HungarianIoUTracker(obj_de|tect)\n",
    "\n",
    "tracker = ReIDHungarianTracker(reid_model=reid_model, obj_detect=obj_detect)"
   ]
  },
  {
   "cell_type": "code",
   "execution_count": null,
   "metadata": {},
   "outputs": [],
   "source": [
    "time_total = 0\n",
    "mot_accums = []\n",
    "results_seq = {}\n",
    "for seq in sequences:\n",
    "    tracker.reset()\n",
    "    now = time.time()\n",
    "\n",
    "    print(f\"Tracking: {seq}\")\n",
    "\n",
    "    data_loader = DataLoader(seq, batch_size=1, shuffle=False)\n",
    "\n",
    "    for frame in tqdm(data_loader):\n",
    "        tracker.step(frame)\n",
    "    results = tracker.get_results()\n",
    "    results_seq[str(seq)] = results\n",
    "\n",
    "    if seq.no_gt:\n",
    "        print(f\"No GT evaluation data available.\")\n",
    "    else:\n",
    "        mot_accums.append(get_mot_accum(results, seq))\n",
    "\n",
    "    time_total += time.time() - now\n",
    "\n",
    "    print(f\"Tracks found: {len(results)}\")\n",
    "    print(f\"Runtime for {seq}: {time.time() - now:.1f} s.\")\n",
    "\n",
    "    # seq.write_results(results, os.path.join(output_dir))\n",
    "\n",
    "print(f\"Runtime for all sequences: {time_total:.1f} s.\")\n",
    "if mot_accums:\n",
    "    evaluate_mot_accums(\n",
    "        mot_accums, [str(s) for s in sequences if not s.no_gt], generate_overall=True\n",
    "    )"
   ]
  },
  {
   "cell_type": "markdown",
   "metadata": {},
   "source": [
    "## Baseline Tracker Results\n",
    "\n",
    "            IDF1   IDP   IDR   Rcll  Prcn  GT  MT  PT ML  FP   FN IDs   FM  MOTA  MOTP\n",
    "    MOT16-02 32.2% 49.8% 23.8% 30.8% 64.4%  62  5  22 35 3170 12858  52   93 13.5% 0.086\n",
    "    MOT16-05 47.7% 53.9% 42.8% 57.8% 72.7% 133 39  64 30 1502  2917  87  103 34.9% 0.144\n",
    "    MOT16-09 43.0% 48.8% 38.4% 51.9% 66.1%  26  7  14  5 1420  2559  39   66 24.5% 0.107\n",
    "    MOT16-11 49.0% 54.1% 44.8% 55.8% 67.5%  75 15  32 28 2542  4166  20   39 28.7% 0.080\n",
    "    OVERALL  41.0% 51.8% 33.9% 44.1% 67.3% 296 66 132 98 8634 22500 198  301 22.2% 0.101"
   ]
  },
  {
   "cell_type": "markdown",
   "metadata": {},
   "source": [
    "## Hungarian Tracker Results\n",
    "\n",
    "             IDF1    IDP  IDR  Rcll  Prcn   GT  MT  PT ML   FP    FN IDs   FM  MOTA  MOTP \n",
    "    MOT16-02 39.1% 55.5% 30.2% 52.3% 96.2%  62  11  38 13  383  8870 246  215 48.9% 0.096 \n",
    "    MOT16-05 55.1% 65.2% 47.7% 68.8% 94.2% 133  55  66 12  295  2158 199  155 61.7% 0.143  \n",
    "    MOT16-09 50.2% 62.0% 42.1% 66.4% 97.8%  26  13  12  1   80  1789  76   78 63.5% 0.083  \n",
    "    MOT16-11 60.4% 66.6% 55.3% 80.2% 96.6%  75  42  26  7  266  1868  99   86 76.3% 0.083  \n",
    "    OVERALL  49.0% 61.5% 40.6% 63.5% 96.2% 296 121 142 33 1024 14685 620  534 59.4% 0.099 "
   ]
  },
  {
   "cell_type": "markdown",
   "metadata": {},
   "source": [
    "# ReidHungarianIoU Tracker results\n",
    "\n",
    "             IDF1   IDP   IDR  Rcll  Prcn  GT  MT  PT ML   FP    FN IDs   FM  MOTA  MOTP IDt IDa IDm\n",
    "    MOT16-02 38.8% 55.1% 29.9% 52.3% 96.2%  62  11  38 13  383  8870 260  215 48.8% 0.096 119 146  11\n",
    "    MOT16-05 55.7% 66.0% 48.2% 68.8% 94.2% 133  56  65 12  295  2158 185  150 61.9% 0.142  69 138  24\n",
    "    MOT16-09 50.2% 62.0% 42.1% 66.4% 97.8%  26  13  12  1   80  1789  76   78 63.5% 0.083  23  58   5\n",
    "    MOT16-11 62.8% 69.2% 57.5% 80.2% 96.6%  75  42  26  7  266  1868  87   86 76.5% 0.083  25  68   9\n",
    "    OVERALL  49.5% 62.3% 41.1% 63.5% 96.2% 296 122 141 33 1024 14685 608  529 59.5% 0.099 236 410  49"
   ]
  },
  {
   "cell_type": "markdown",
   "metadata": {
    "id": "X7KPPxqG_5xt"
   },
   "source": [
    "## Visualize tracking results"
   ]
  },
  {
   "cell_type": "code",
   "execution_count": null,
   "metadata": {},
   "outputs": [],
   "source": [
    "plot_sequence(\n",
    "    results_seq[\"MOT16-02\"],\n",
    "    [s for s in sequences if str(s) == \"MOT16-02\"][0],\n",
    "    first_n_frames=3,\n",
    ")"
   ]
  },
  {
   "cell_type": "code",
   "execution_count": null,
   "metadata": {},
   "outputs": [],
   "source": []
  }
 ],
 "metadata": {
  "kernelspec": {
   "display_name": "Python [conda env:tracking]",
   "language": "python",
   "name": "conda-env-tracking-py"
  },
  "language_info": {
   "codemirror_mode": {
    "name": "ipython",
    "version": 3
   },
   "file_extension": ".py",
   "mimetype": "text/x-python",
   "name": "python",
   "nbconvert_exporter": "python",
   "pygments_lexer": "ipython3",
   "version": "3.10.4"
  },
  "vscode": {
   "interpreter": {
    "hash": "d0cafbbefa557af0eb434e43229a0bc3a94a7b3610e45211e67837890fcbccc6"
   }
  }
 },
 "nbformat": 4,
 "nbformat_minor": 4
}
